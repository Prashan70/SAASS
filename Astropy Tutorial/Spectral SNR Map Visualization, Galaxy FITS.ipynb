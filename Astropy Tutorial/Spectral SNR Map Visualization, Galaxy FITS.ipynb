{
 "cells": [
  {
   "cell_type": "markdown",
   "id": "41791ac0",
   "metadata": {},
   "source": [
    "<p>Calculating the Signal-to-Noise Ratio (SNR) from SDSS BOSS (Baryon Oscillation Spectroscopic Survey) spectral data. Whether you're a student, researcher, or astronomy enthusiast, this step-by-step guide will help you understand how to extract and analyze SNR from real spectroscopic data.</p>\n",
    "\n",
    "<h1>What’s Covered:</h1>\n",
    "<ul>\n",
    "<li>Introduction to SDSS and BOSS data</li>\n",
    "\n",
    "<li>Downloading and reading BOSS spectra (FITS format)</li>\n",
    "\n",
    "<li>Identifying flux and inverse variance (ivar) arrays</li>\n",
    "\n",
    "<li>Calculating per-pixel and average SNR</li>\n",
    "\n",
    "<li>Python code demonstration using astropy, numpy, and matplotlib</li>\n",
    "\n",
    "<li>Tips for quality checks and interpreting SNR</li>\n",
    "</ul>\n",
    "\n",
    "<h1>Tools Used:</h1>\n",
    "<ol>\n",
    "<li>Python</li>\n",
    "\n",
    "<li>Astropy</li>\n",
    "\n",
    "<li>Numpy</li>\n",
    "\n",
    "<li>Matplotlib</li>\n",
    "\n",
    "<li>SDSS DR12/DR16 data access</li>\n",
    "</ol>"
   ]
  },
  {
   "cell_type": "markdown",
   "id": "822d2160",
   "metadata": {},
   "source": [
    "<h3>Tutorial Objective: How to Visualize Signal To Noise Ratio (SNR) of Galaxy Data Cube?</h3>\n",
    "\n",
    "Step-0: Download/Access Galaxy Data:SDSS MANGA observation\n",
    "\n",
    "Step-1: Import Required Library"
   ]
  },
  {
   "cell_type": "code",
   "execution_count": 19,
   "id": "af458750",
   "metadata": {},
   "outputs": [],
   "source": [
    "import os\n",
    "import numpy as np\n",
    "import matplotlib.pyplot as plt\n",
    "from astropy.io import fits"
   ]
  },
  {
   "cell_type": "markdown",
   "id": "8c6658d7",
   "metadata": {},
   "source": [
    "Step-2: Read/Open Galaxy Fits Data cube"
   ]
  },
  {
   "cell_type": "code",
   "execution_count": 22,
   "id": "aac23170",
   "metadata": {},
   "outputs": [
    {
     "name": "stdout",
     "output_type": "stream",
     "text": [
      "Filename: manga-11863-1901-LINCUBE.fits.gz\n",
      "No.    Name      Ver    Type      Cards   Dimensions   Format\n",
      "  0  PRIMARY       1 PrimaryHDU      75   ()      \n",
      "  1  FLUX          1 ImageHDU       100   (34, 34, 6732)   float32   \n",
      "  2  IVAR          1 ImageHDU        17   (34, 34, 6732)   float32   \n",
      "  3  MASK          1 ImageHDU        17   (34, 34, 6732)   int32   \n",
      "  4  LSFPOST       1 ImageHDU        11   (34, 34, 6732)   float32   \n",
      "  5  LSFPRE        1 ImageHDU        11   (34, 34, 6732)   float32   \n",
      "  6  WAVE          1 ImageHDU         9   (6732,)   float64   \n",
      "  7  SPECRES       1 ImageHDU         9   (6732,)   float64   \n",
      "  8  SPECRESD      1 ImageHDU         9   (6732,)   float64   \n",
      "  9  PRESPECRES    1 ImageHDU         9   (6732,)   float64   \n",
      " 10  PRESPECRESD    1 ImageHDU         9   (6732,)   float64   \n",
      " 11  OBSINFO       1 BinTableHDU    148   12R x 65C   [26A, 17A, 5A, J, I, 8A, E, E, E, E, E, E, J, J, I, J, E, 12A, J, 8A, E, E, E, E, E, E, E, E, E, E, E, E, E, E, E, E, E, E, E, 13A, E, E, E, E, D, D, D, D, E, E, J, J, J, E, E, E, E, E, E, J, J, E, E, E, E]   \n",
      " 12  GIMG          1 ImageHDU        28   (34, 34)   float32   \n",
      " 13  RIMG          1 ImageHDU        28   (34, 34)   float32   \n",
      " 14  IIMG          1 ImageHDU        28   (34, 34)   float32   \n",
      " 15  ZIMG          1 ImageHDU        28   (34, 34)   float32   \n",
      " 16  GPSF          1 ImageHDU        28   (34, 34)   float32   \n",
      " 17  RPSF          1 ImageHDU        28   (34, 34)   float32   \n",
      " 18  IPSF          1 ImageHDU        28   (34, 34)   float32   \n",
      " 19  ZPSF          1 ImageHDU        28   (34, 34)   float32   \n",
      " 20  GCORREL       1 BinTableHDU     32   20346R x 5C   [J, J, J, J, D]   \n",
      " 21  RCORREL       1 BinTableHDU     32   20632R x 5C   [J, J, J, J, D]   \n",
      " 22  ICORREL       1 BinTableHDU     32   21464R x 5C   [J, J, J, J, D]   \n",
      " 23  ZCORREL       1 BinTableHDU     32   22054R x 5C   [J, J, J, J, D]   \n"
     ]
    }
   ],
   "source": [
    "cube = fits.open(\"manga-11863-1901-LINCUBE.fits.gz\") #reads data cube\n",
    "#Extract information about data cube\n",
    "cube.info()"
   ]
  },
  {
   "cell_type": "markdown",
   "id": "fd068fd0",
   "metadata": {},
   "source": [
    "Step-3:Extract Data: FLUX, IVAR & WAVELENGTH"
   ]
  },
  {
   "cell_type": "code",
   "execution_count": 30,
   "id": "770e96fe",
   "metadata": {},
   "outputs": [],
   "source": [
    "#Extract flux data\n",
    "flux = cube['FLUX'].data\n",
    "\n",
    "#IVAR\n",
    "ivar = cube['IVAR'].data\n",
    "\n",
    "#WAVE lambda\n",
    "wl = cube['WAVE'].data"
   ]
  },
  {
   "cell_type": "markdown",
   "id": "8489ad71",
   "metadata": {},
   "source": [
    "Step-4: FLUX error estimation\n",
    "\n",
    "FLUX_Err = $\\sqrt{1/IVAR}$"
   ]
  },
  {
   "cell_type": "code",
   "execution_count": 33,
   "id": "0321c966",
   "metadata": {},
   "outputs": [
    {
     "name": "stderr",
     "output_type": "stream",
     "text": [
      "/tmp/ipykernel_2681/1150042157.py:1: RuntimeWarning: divide by zero encountered in divide\n",
      "  flux_err = np.sqrt(1/ivar)  # FLUX error estimation\n"
     ]
    },
    {
     "data": {
      "text/plain": [
       "(6732, 34, 34)"
      ]
     },
     "execution_count": 33,
     "metadata": {},
     "output_type": "execute_result"
    }
   ],
   "source": [
    "flux_err = np.sqrt(1/ivar)  # FLUX error estimation\n",
    "flux_err.shape"
   ]
  }
 ],
 "metadata": {
  "kernelspec": {
   "display_name": "linux_env",
   "language": "python",
   "name": "python3"
  },
  "language_info": {
   "codemirror_mode": {
    "name": "ipython",
    "version": 3
   },
   "file_extension": ".py",
   "mimetype": "text/x-python",
   "name": "python",
   "nbconvert_exporter": "python",
   "pygments_lexer": "ipython3",
   "version": "3.12.3"
  }
 },
 "nbformat": 4,
 "nbformat_minor": 5
}
