{
 "cells": [
  {
   "cell_type": "markdown",
   "id": "3d4e36f5",
   "metadata": {},
   "source": []
  }
 ],
 "metadata": {
  "language_info": {
   "name": "python"
  }
 },
 "nbformat": 4,
 "nbformat_minor": 5
}
