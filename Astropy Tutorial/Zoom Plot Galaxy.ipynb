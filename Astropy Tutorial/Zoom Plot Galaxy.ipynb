{
 "cells": [
  {
   "cell_type": "markdown",
   "id": "18d9cfcd",
   "metadata": {},
   "source": [
    "# Objective: How to Create Insert/Zoom Plot from Astronomical FITS Image?"
   ]
  },
  {
   "cell_type": "markdown",
   "id": "0d3786e5",
   "metadata": {},
   "source": [
    "Step 1: Download SDSS FITS image file"
   ]
  },
  {
   "cell_type": "markdown",
   "id": "1bbf8b63",
   "metadata": {},
   "source": [
    "Step 2: Import Required Library"
   ]
  },
  {
   "cell_type": "code",
   "execution_count": 2,
   "id": "f83befcc",
   "metadata": {},
   "outputs": [],
   "source": [
    "import numpy as np #deals with nums ans arrays\n",
    "import matplotlib.pyplot as plt #data visualization\n",
    "from astropy.io import fits #fits file handling\n",
    "from mpl_toolkits.axes_grid1.inset_locator import inset_axes, mark_inset # inset plotting"
   ]
  },
  {
   "cell_type": "markdown",
   "id": "eb8469ce",
   "metadata": {},
   "source": [
    "Step 3: Read FITS image file"
   ]
  },
  {
   "cell_type": "code",
   "execution_count": 5,
   "id": "e05ed27b",
   "metadata": {},
   "outputs": [
    {
     "name": "stdout",
     "output_type": "stream",
     "text": [
      "Filename: qKHJ_asky_971031n0960197.fits\n",
      "No.    Name      Ver    Type      Cards   Dimensions   Format\n",
      "  0  PRIMARY       1 PrimaryHDU       4   ()      \n",
      "  1                1 ImageHDU       143   (512, 1024)   int16   \n",
      "  2                1 ImageHDU       143   (512, 1024)   int16   \n",
      "  3                1 ImageHDU       143   (512, 1024)   int16   \n"
     ]
    }
   ],
   "source": [
    "file = fits.open('qKHJ_asky_971031n0960197.fits')\n",
    "file.info()"
   ]
  },
  {
   "cell_type": "code",
   "execution_count": 4,
   "id": "bea2bb60",
   "metadata": {},
   "outputs": [
    {
     "name": "stdout",
     "output_type": "stream",
     "text": [
      "qKHJ_asky_971031n0960197.fits  snr_cube.fits  spec-1678-53433-0153.fits\n"
     ]
    }
   ],
   "source": [
    "ls *fits"
   ]
  }
 ],
 "metadata": {
  "kernelspec": {
   "display_name": "linux_env",
   "language": "python",
   "name": "python3"
  },
  "language_info": {
   "codemirror_mode": {
    "name": "ipython",
    "version": 3
   },
   "file_extension": ".py",
   "mimetype": "text/x-python",
   "name": "python",
   "nbconvert_exporter": "python",
   "pygments_lexer": "ipython3",
   "version": "3.12.3"
  }
 },
 "nbformat": 4,
 "nbformat_minor": 5
}
