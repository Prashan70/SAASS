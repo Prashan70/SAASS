{
 "cells": [
  {
   "cell_type": "code",
   "execution_count": null,
   "id": "cd49cf19",
   "metadata": {},
   "outputs": [],
   "source": [
    "import sympy\n",
    "from einsteinpy.symbolic import MetricTensor, ChristoffelSymbols, RiemannCurvatureTensor, RicciTensor, RicciScalar, EinsteinTensor\n",
    "from sympy import Function, simplify\n",
    "sympy.init_printing()"
   ]
  },
  {
   "cell_type": "code",
   "execution_count": 4,
   "id": "3ef40290",
   "metadata": {},
   "outputs": [],
   "source": [
    "def get_metric(univ_type):\n",
    "    syms = sympy.symbols(\"t chi theta phi\")\n",
    "    t, chi, theta, phi = syms\n",
    "    a, R, c = sympy.symbols(\"a R c\")\n",
    "\n",
    "    # Initialize a 2d 4x4 array\n",
    "    list2d = [[0 for i in range(4)] for i in range(4)]\n",
    "\n",
    "    # Define the function f depending upon the type of the Universe\n",
    "    def f(x, universe):\n",
    "        if universe==\"flat\":\n",
    "            return x\n",
    "        if universe==\"closed\":\n",
    "            return sympy.sin(x)\n",
    "        if universe==\"open\":\n",
    "            return sympy.sinh(x)\n",
    "\n",
    "    # Set the diagonal elements to be g_{\\mu\\nu}\n",
    "    list2d[0][0] = -1\n",
    "    list2d[1][1] = Function(a)(t)**2\n",
    "    list2d[2][2] = Function(a)(t)**2*(R*f(chi/R, univ_type))**2\n",
    "    list2d[3][3] = Function(a)(t)**2* (R*f(chi/R, univ_type))**2 * (sympy.sin(theta) ** 2)\n",
    "\n",
    "    # Define the metric\n",
    "    frw = MetricTensor(list2d, syms)\n",
    "\n",
    "    # Visualize the metric\n",
    "    frw.tensor()\n",
    "\n",
    "    return frw"
   ]
  },
  {
   "cell_type": "code",
   "execution_count": 5,
   "id": "3ff4d28a",
   "metadata": {},
   "outputs": [],
   "source": [
    "open_metric = get_metric(\"open\")\n",
    "closed_metric = get_metric(\"closed\")\n",
    "flat_metric = get_metric(\"flat\")"
   ]
  },
  {
   "cell_type": "code",
   "execution_count": 6,
   "id": "e2ef2e5e",
   "metadata": {},
   "outputs": [
    {
     "data": {
      "text/latex": [
       "$\\displaystyle \\left[\\begin{matrix}-1 & 0 & 0 & 0\\\\0 & a^{2}{\\left(t \\right)} & 0 & 0\\\\0 & 0 & \\chi^{2} a^{2}{\\left(t \\right)} & 0\\\\0 & 0 & 0 & \\chi^{2} a^{2}{\\left(t \\right)} \\sin^{2}{\\left(\\theta \\right)}\\end{matrix}\\right]$"
      ],
      "text/plain": [
       "⎡-1    0       0             0        ⎤\n",
       "⎢                                     ⎥\n",
       "⎢     2                               ⎥\n",
       "⎢0   a (t)     0             0        ⎥\n",
       "⎢                                     ⎥\n",
       "⎢            2  2                     ⎥\n",
       "⎢0     0    χ ⋅a (t)         0        ⎥\n",
       "⎢                                     ⎥\n",
       "⎢                      2  2       2   ⎥\n",
       "⎣0     0       0      χ ⋅a (t)⋅sin (θ)⎦"
      ]
     },
     "execution_count": 6,
     "metadata": {},
     "output_type": "execute_result"
    }
   ],
   "source": [
    "flat_metric.tensor()"
   ]
  }
 ],
 "metadata": {
  "kernelspec": {
   "display_name": "linux_env",
   "language": "python",
   "name": "python3"
  },
  "language_info": {
   "codemirror_mode": {
    "name": "ipython",
    "version": 3
   },
   "file_extension": ".py",
   "mimetype": "text/x-python",
   "name": "python",
   "nbconvert_exporter": "python",
   "pygments_lexer": "ipython3",
   "version": "3.12.3"
  }
 },
 "nbformat": 4,
 "nbformat_minor": 5
}
