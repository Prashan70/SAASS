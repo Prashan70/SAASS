{
 "cells": [
  {
   "cell_type": "markdown",
   "id": "5c00bc83",
   "metadata": {},
   "source": [
    "# Array\n",
    "* An array is a collection of items (like a list), stored at continuous memory locations.\n",
    "\n",
    "* It can hold multiple values of the same type (e.g., all integers or all floats).\n",
    "\n",
    "List:\n",
    "\n",
    "l = [\"Earth\", 1, 2.75]\n",
    "\n",
    "Array:\n",
    "\n",
    "arr1 = [4, 1, 6]\n",
    "\n",
    "arr2 = ['a', 'b', 'c']"
   ]
  },
  {
   "cell_type": "markdown",
   "id": "4a29e1ee",
   "metadata": {},
   "source": [
    "## Creating an Array\n",
    "Array in Python can be created by importing an array module **array( data_type , value_list )**."
   ]
  },
  {
   "cell_type": "code",
   "execution_count": 3,
   "id": "f141d12c",
   "metadata": {},
   "outputs": [
    {
     "name": "stdout",
     "output_type": "stream",
     "text": [
      "1 2 3 "
     ]
    }
   ],
   "source": [
    "import array as ar\n",
    "a = ar.array('i', [1, 2, 3])\n",
    "\n",
    "for i in range(0, 3):\n",
    "    print(a[i], end=\" \")"
   ]
  },
  {
   "cell_type": "code",
   "execution_count": 12,
   "id": "d2b24288",
   "metadata": {},
   "outputs": [
    {
     "data": {
      "image/png": "[encoded data removed]",
      "text/plain": [
       "<Figure size 640x480 with 1 Axes>"
      ]
     },
     "metadata": {},
     "output_type": "display_data"
    }
   ],
   "source": [
    "from PIL import Image\n",
    "import matplotlib.pyplot as plt\n",
    "\n",
    "# Open the image\n",
    "img = Image.open(\"array_creation.webp\")\n",
    "\n",
    "# Show the image\n",
    "plt.imshow(img)\n",
    "plt.axis(\"off\")  # Hide axes\n",
    "plt.show()\n"
   ]
  },
  {
   "cell_type": "markdown",
   "id": "8a90cf77",
   "metadata": {},
   "source": [
    "## Adding Elements"
   ]
  },
  {
   "cell_type": "code",
   "execution_count": 5,
   "id": "6bb8e7db",
   "metadata": {},
   "outputs": [
    {
     "name": "stdout",
     "output_type": "stream",
     "text": [
      "1 2 3\n",
      "1 4 2 3\n"
     ]
    }
   ],
   "source": [
    "import array as arr\n",
    "a = arr.array('i', [1, 2, 3])\n",
    "print(*a)\n",
    "\n",
    "a.insert(1, 4)  # Insert 4 at index 1\n",
    "print(*a)"
   ]
  },
  {
   "cell_type": "markdown",
   "id": "240e0d94",
   "metadata": {},
   "source": [
    "## Accessing Array Items"
   ]
  },
  {
   "cell_type": "code",
   "execution_count": 4,
   "id": "9c10de12",
   "metadata": {},
   "outputs": [
    {
     "name": "stdout",
     "output_type": "stream",
     "text": [
      "1\n",
      "4\n",
      "3.2\n",
      "3.3\n"
     ]
    }
   ],
   "source": [
    "import array as arr\n",
    "a = arr.array('i', [1, 2, 3, 4, 5, 6])\n",
    "\n",
    "print(a[0])\n",
    "print(a[3])\n",
    "\n",
    "b = arr.array('d', [2.5, 3.2, 3.3])\n",
    "print(b[1])\n",
    "print(b[2])"
   ]
  },
  {
   "cell_type": "markdown",
   "id": "b406606b",
   "metadata": {},
   "source": [
    "## Removing Elements from the Array"
   ]
  },
  {
   "cell_type": "code",
   "execution_count": null,
   "id": "6a26531e",
   "metadata": {},
   "outputs": [
    {
     "name": "stdout",
     "output_type": "stream",
     "text": [
      "array('i', [2, 3, 1, 5])\n",
      "array('i', [2, 3, 5])\n"
     ]
    }
   ],
   "source": [
    "import array\n",
    "a = array.array('i', [1, 2, 3, 1, 5])\n",
    "\n",
    "# remove first occurance of 1\n",
    "a.remove(1)\n",
    "print(a)\n",
    "\n",
    "# remove item at index 2\n",
    "a.pop(2) # 2 is index here\n",
    "print(a)"
   ]
  },
  {
   "cell_type": "markdown",
   "id": "16caca59",
   "metadata": {},
   "source": [
    "## Slicing"
   ]
  },
  {
   "cell_type": "code",
   "execution_count": null,
   "id": "16c42923",
   "metadata": {},
   "outputs": [
    {
     "name": "stdout",
     "output_type": "stream",
     "text": [
      "4 5 6 7 8\n",
      "6 7 8 9 10\n",
      "1 2 3 4 5 6 7 8 9 10\n"
     ]
    }
   ],
   "source": [
    "import array as arr\n",
    "a = [1, 2, 3, 4, 5, 6, 7, 8, 9, 10]\n",
    "b = arr.array('i', a)\n",
    "\n",
    "res = b[3:8] # [0: (n-1)]\n",
    "print(*res)\n",
    "\n",
    "res = b[5:]\n",
    "print(*res)\n",
    "\n",
    "res = b[:]\n",
    "print(*res)"
   ]
  },
  {
   "cell_type": "code",
   "execution_count": 25,
   "id": "bc79272c",
   "metadata": {},
   "outputs": [
    {
     "name": "stdout",
     "output_type": "stream",
     "text": [
      "2 3 4\n"
     ]
    }
   ],
   "source": [
    "c = arr.array('i', [1, 2, 3, 4, 5])\n",
    "print(*c[1:4])"
   ]
  },
  {
   "cell_type": "markdown",
   "id": "a04ee7fe",
   "metadata": {},
   "source": [
    "## Searching Element"
   ]
  },
  {
   "cell_type": "code",
   "execution_count": null,
   "id": "7ebaea35",
   "metadata": {},
   "outputs": [
    {
     "name": "stdout",
     "output_type": "stream",
     "text": [
      "1\n",
      "0\n"
     ]
    }
   ],
   "source": [
    "import array\n",
    "a = array.array('i', [1, 2, 3, 1, 2, 5])\n",
    "\n",
    "# index of 1st occurrence of 2\n",
    "print(a.index(2)) # value\n",
    "\n",
    "# index of 1st occurrence of 1\n",
    "print(a.index(1))"
   ]
  },
  {
   "cell_type": "markdown",
   "id": "a75be6b9",
   "metadata": {},
   "source": [
    "## Update Elements in Array"
   ]
  },
  {
   "cell_type": "code",
   "execution_count": 14,
   "id": "cd36657f",
   "metadata": {},
   "outputs": [
    {
     "name": "stdout",
     "output_type": "stream",
     "text": [
      "1 2 6 1 2 5\n",
      "1 2 6 1 8 5\n"
     ]
    }
   ],
   "source": [
    "import array\n",
    "a = array.array('i', [1, 2, 3, 1, 2, 5])\n",
    "\n",
    "# update item at index 2\n",
    "a[2] = 6\n",
    "print(*a)\n",
    "\n",
    "# update item at index 4\n",
    "a[4] = 8\n",
    "print(*a)"
   ]
  },
  {
   "cell_type": "markdown",
   "id": "858cebf6",
   "metadata": {},
   "source": [
    "## Different Operations\n",
    "### Countinng Elements"
   ]
  },
  {
   "cell_type": "code",
   "execution_count": 9,
   "id": "c507a3d7",
   "metadata": {},
   "outputs": [
    {
     "name": "stdout",
     "output_type": "stream",
     "text": [
      "3\n"
     ]
    }
   ],
   "source": [
    "import array\n",
    "a = array.array('i', [1, 2, 3, 4, 2, 5, 2])\n",
    "\n",
    "count = a.count(2)\n",
    "print(count)"
   ]
  },
  {
   "cell_type": "markdown",
   "id": "aa73a42f",
   "metadata": {},
   "source": [
    "### Reversing Elements "
   ]
  },
  {
   "cell_type": "code",
   "execution_count": 10,
   "id": "89ed304b",
   "metadata": {},
   "outputs": [
    {
     "name": "stdout",
     "output_type": "stream",
     "text": [
      "5 4 3 2 1\n"
     ]
    }
   ],
   "source": [
    "import array\n",
    "a = array.array('i', [1, 2, 3, 4, 5])\n",
    "\n",
    "a.reverse()\n",
    "print(*a)"
   ]
  },
  {
   "cell_type": "markdown",
   "id": "3ff2b4a7",
   "metadata": {},
   "source": [
    "### Extend Element"
   ]
  },
  {
   "cell_type": "code",
   "execution_count": null,
   "id": "c1c53b5b",
   "metadata": {},
   "outputs": [
    {
     "name": "stdout",
     "output_type": "stream",
     "text": [
      "array('i', [1, 2, 3, 4, 5, 6, 7, 8, 9, 10])\n"
     ]
    }
   ],
   "source": [
    "import array as arr \n",
    "a = arr.array('i', [1, 2, 3, 4, 5])\n",
    "\n",
    "a.extend([6,7,8,9,10])\n",
    "print(a)"
   ]
  },
  {
   "cell_type": "markdown",
   "id": "ec1967ec",
   "metadata": {},
   "source": [
    "Question 1:\n",
    "\n",
    "[10, 20, 30, 40, 50]\n",
    "* Print the first and last elements.\n",
    "* Print the length of the arrey."
   ]
  },
  {
   "cell_type": "code",
   "execution_count": 15,
   "id": "81d2f5a6",
   "metadata": {},
   "outputs": [],
   "source": [
    "import array as arr\n",
    "a = arr. array('i', [10,20,30,40,50])"
   ]
  },
  {
   "cell_type": "code",
   "execution_count": 17,
   "id": "2bdb5684",
   "metadata": {},
   "outputs": [
    {
     "name": "stdout",
     "output_type": "stream",
     "text": [
      "10\n",
      "50\n"
     ]
    }
   ],
   "source": [
    "print(a[0])\n",
    "print(a[4])"
   ]
  },
  {
   "cell_type": "code",
   "execution_count": 18,
   "id": "be540011",
   "metadata": {},
   "outputs": [
    {
     "name": "stdout",
     "output_type": "stream",
     "text": [
      "5\n"
     ]
    }
   ],
   "source": [
    "print(len(a))"
   ]
  },
  {
   "cell_type": "markdown",
   "id": "2c171328",
   "metadata": {},
   "source": [
    "[5,10,15,20]\n",
    "* append 25\n",
    "* Insert 12 at index 2\n",
    "* Remove value 10\n",
    "* Print the final array"
   ]
  },
  {
   "cell_type": "code",
   "execution_count": 21,
   "id": "8efaabdb",
   "metadata": {},
   "outputs": [
    {
     "name": "stdout",
     "output_type": "stream",
     "text": [
      "5 10 15 20 25\n",
      "5 10 12 15 20 25\n",
      "5 12 15 20 25\n"
     ]
    }
   ],
   "source": [
    "import array as arr\n",
    "a = arr.array('i', [5,10,15,20])\n",
    "\n",
    "a.append(25)\n",
    "print(*a)\n",
    "\n",
    "a.insert(2, 12)\n",
    "print(*a)\n",
    "\n",
    "a.remove(10)\n",
    "print(*a)"
   ]
  },
  {
   "cell_type": "markdown",
   "id": "f0a85844",
   "metadata": {},
   "source": [
    "[2,4,6,8,10,12,14]\n",
    "* Print elements from index 2 to 5\n",
    "* Find the index of element 10\n",
    "* Check if 15 exists in the array"
   ]
  },
  {
   "cell_type": "code",
   "execution_count": 32,
   "id": "1a16ed3b",
   "metadata": {},
   "outputs": [
    {
     "name": "stdout",
     "output_type": "stream",
     "text": [
      "array('i', [6, 8, 10, 12])\n",
      "4\n",
      "15 doesn't exist in a\n"
     ]
    }
   ],
   "source": [
    "import array as arr\n",
    "a = arr.array('i', [2,4,6,8,10,12,14])\n",
    "\n",
    "print(a[2:6])\n",
    "print(a.index(10))\n",
    "\n",
    "if 15 in a:\n",
    "    print(\"15 exist in a\")\n",
    "else:\n",
    "    print(\"15 doesn't exist in a\")"
   ]
  }
 ],
 "metadata": {
  "kernelspec": {
   "display_name": "linux_env",
   "language": "python",
   "name": "python3"
  },
  "language_info": {
   "codemirror_mode": {
    "name": "ipython",
    "version": 3
   },
   "file_extension": ".py",
   "mimetype": "text/x-python",
   "name": "python",
   "nbconvert_exporter": "python",
   "pygments_lexer": "ipython3",
   "version": "3.12.3"
  }
 },
 "nbformat": 4,
 "nbformat_minor": 5
}
