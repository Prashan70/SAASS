{
  "cells": [
    {
      "cell_type": "markdown",
      "metadata": {
        "id": "sdzFxI7alhiP"
      },
      "source": [
        "# Libraries\n",
        "\n",
        "---\n",
        "\n",
        "\n",
        "A library (also called a module/package) is pre-written code you can reuse instead of writing everything from scratch.\n",
        "\n",
        "\"Imagine you write a program with thousands of lines of code. Do you think it will be easy to manage everything in one file?\"\n",
        "\n",
        "Python has two types:\n",
        "*   Modules (already comes with Python, e.g. math, random)\n",
        "*   Packages (you install with pip, e.g. numpy, pandas)\n",
        "\n",
        "A package is like a school bag (package) that contains books (modules)."
      ]
    },
    {
      "cell_type": "markdown",
      "metadata": {
        "id": "dNB2gfuGsIKt"
      },
      "source": [
        "**Q) Determine the sqare-root of any number.**"
      ]
    },
    {
      "cell_type": "code",
      "execution_count": 3,
      "metadata": {
        "colab": {
          "base_uri": "https://localhost:8080/"
        },
        "id": "87ZpR-MOsll0",
        "outputId": "a8dd8499-e6a1-469b-d643-2e8ed790e8ff"
      },
      "outputs": [
        {
          "name": "stdout",
          "output_type": "stream",
          "text": [
            "4.000\n"
          ]
        }
      ],
      "source": [
        "def square_root(number):\n",
        "    if number < 0:\n",
        "        return \"Can't find square root of a negative number\"\n",
        "\n",
        "    # If number is 0 or 1, the square root is the number itself\n",
        "    if number == 0 or number == 1:\n",
        "        return number\n",
        "\n",
        "    # Start with a guess (half of the number)\n",
        "    guess = number / 2\n",
        "\n",
        "    # Repeat until the guess is \"good enough\"\n",
        "    # Here we stop when guess*guess is very close to the number\n",
        "    while abs(guess * guess - number) > 0.0001:\n",
        "        # Improve the guess using the formula\n",
        "        guess = (guess + number / guess) / 2\n",
        "\n",
        "    return guess\n",
        "\n",
        "\n",
        "num = float(input(\"Enter a number: \"))\n",
        "result = square_root(num)\n",
        "\n",
        "print(f\"{result:.3f}\")"
      ]
    },
    {
      "cell_type": "markdown",
      "metadata": {
        "id": "qshuMerOypPd"
      },
      "source": [
        "*Profit of using Library*"
      ]
    },
    {
      "cell_type": "code",
      "execution_count": 2,
      "metadata": {
        "colab": {
          "base_uri": "https://localhost:8080/"
        },
        "id": "5MjfDrQByskP",
        "outputId": "17952666-618c-4178-e9f9-c50228d40834"
      },
      "outputs": [
        {
          "name": "stdout",
          "output_type": "stream",
          "text": [
            "1.4142135623730951\n"
          ]
        }
      ],
      "source": [
        "import math\n",
        "print(math.sqrt(2))"
      ]
    },
    {
      "cell_type": "markdown",
      "metadata": {
        "id": "TaE6UgL20LHb"
      },
      "source": [
        "# Math Library\n",
        "\n",
        "---\n",
        "\n",
        "\n",
        "Documentation to explore more: [math module](https://docs.python.org/3/library/math.html)\n",
        "\n",
        "## Prominent Examples\n",
        "\n",
        "*   factorial(n):   3! = 3 x 2 x 1\n",
        "*   gcd(*integers): HCF\n",
        "*   sqrt(n):        squareroot\n",
        "*   lcm(*integers): LCM\n",
        "*   ceil(x):        Ceiling of x, the smallest integer greater than or equal to x\n",
        "*   fabs(x):        Absolute value of x\n",
        "*   floor(x):       Floor of x, the largest integer less than or equal to x\n",
        "*   fma(x, y, z):   Fused multiply-add operation: (x * y) + z\n",
        "*   cbrt(n):        Cube root\n",
        "*   pow(x, y):      x raised to the power y\n",
        "*   pi:             3.141592…\n",
        "*   e:              2.718281…"
      ]
    },
    {
      "cell_type": "markdown",
      "metadata": {
        "id": "JQ2aQmf0tHn4"
      },
      "source": [
        "First *Import math* module"
      ]
    },
    {
      "cell_type": "code",
      "execution_count": 1,
      "metadata": {
        "id": "qLLhK1p90WzO"
      },
      "outputs": [],
      "source": [
        "import math"
      ]
    },
    {
      "cell_type": "code",
      "execution_count": 3,
      "metadata": {
        "colab": {
          "base_uri": "https://localhost:8080/"
        },
        "id": "47M-9nBLsEFK",
        "outputId": "bd26bbbf-032b-4d50-e3e2-cc7061bfb62c"
      },
      "outputs": [
        {
          "name": "stdout",
          "output_type": "stream",
          "text": [
            "4.0\n",
            "3.141592653589793\n",
            "12\n"
          ]
        }
      ],
      "source": [
        "# print(sqrt(16))\n",
        "print(math.sqrt(16))\n",
        "print(math.pi)\n",
        "print(math.lcm(2,3,4))"
      ]
    },
    {
      "cell_type": "code",
      "execution_count": 4,
      "metadata": {
        "colab": {
          "base_uri": "https://localhost:8080/"
        },
        "id": "aSFxhCTwtGF4",
        "outputId": "e32cf474-3ccb-44d1-c442-426e0c18ca2c"
      },
      "outputs": [
        {
          "name": "stdout",
          "output_type": "stream",
          "text": [
            "4.0\n",
            "3.141592653589793\n",
            "12\n"
          ]
        }
      ],
      "source": [
        "from math import sqrt, pi, lcm\n",
        "print(sqrt(16))\n",
        "print(pi)\n",
        "print(lcm(2,3,4))"
      ]
    },
    {
      "cell_type": "markdown",
      "metadata": {
        "id": "KbZGW6NzuFBt"
      },
      "source": [
        "### Task:\n",
        "\n",
        "\n",
        "1.   Use the math module to calculate the value of π (pi) up to 3 decimal places.\n",
        "2.   Find the GCD of two numbers, 36 and 60, using the math.gcd() function.\n",
        "3.   Calculate the value of 5^3 using the math.pow() function instead of **.\n",
        "4.   Write a program that takes a number from the user and checks whether it is a perfect square using math.sqrt().\n",
        "\n"
      ]
    },
    {
      "cell_type": "code",
      "execution_count": 5,
      "metadata": {
        "colab": {
          "base_uri": "https://localhost:8080/"
        },
        "id": "nbf72VGIvxAi",
        "outputId": "3f853fa0-6949-4523-d7c4-160c48add891"
      },
      "outputs": [
        {
          "name": "stdout",
          "output_type": "stream",
          "text": [
            "Enter a number: 63\n",
            "63 is not a perfect square.\n"
          ]
        }
      ],
      "source": [
        "import math\n",
        "\n",
        "num = int(input(\"Enter a number: \"))\n",
        "root = math.sqrt(num)\n",
        "\n",
        "if root == int(root):\n",
        "    print(f\"{num} is a perfect square.\")\n",
        "else:\n",
        "    print(f\"{num} is not a perfect square.\")"
      ]
    },
    {
      "cell_type": "markdown",
      "metadata": {
        "id": "mGZPoJwEwm4p"
      },
      "source": [
        "# Random Module\n",
        "Documentaion: [random library](https://docs.python.org/3/library/random.html)\n",
        "* randint(a,b)\n",
        "* random()\n",
        "* choice()\n",
        "* shuffle()\n",
        "* sample()"
      ]
    },
    {
      "cell_type": "code",
      "execution_count": 5,
      "metadata": {
        "id": "wXAOLUVYz5hF"
      },
      "outputs": [],
      "source": [
        "import random as r"
      ]
    },
    {
      "cell_type": "code",
      "execution_count": 6,
      "metadata": {
        "colab": {
          "base_uri": "https://localhost:8080/"
        },
        "id": "Mr-WhCzNzcUT",
        "outputId": "909cdba4-839c-445d-f475-3d691388a70d"
      },
      "outputs": [
        {
          "name": "stdout",
          "output_type": "stream",
          "text": [
            "Random integer: 8\n"
          ]
        }
      ],
      "source": [
        "num = r.randint(1, 10)   # Random number between 1 and 10 (inclusive)\n",
        "print(\"Random integer:\", num)"
      ]
    },
    {
      "cell_type": "code",
      "execution_count": 7,
      "metadata": {
        "colab": {
          "base_uri": "https://localhost:8080/"
        },
        "id": "6s-IPPvzzY16",
        "outputId": "faf76407-a481-49a2-9e19-66dc36aa03b4"
      },
      "outputs": [
        {
          "name": "stdout",
          "output_type": "stream",
          "text": [
            "Random float: 0.9134767982321371\n"
          ]
        }
      ],
      "source": [
        "num = r.random()   # Random float between 0.0 and 1.0\n",
        "print(\"Random float:\", num)"
      ]
    },
    {
      "cell_type": "code",
      "execution_count": 11,
      "metadata": {
        "colab": {
          "base_uri": "https://localhost:8080/"
        },
        "id": "A9uY-agwzifd",
        "outputId": "4a28369a-329c-487d-ec58-829f93792d66"
      },
      "outputs": [
        {
          "name": "stdout",
          "output_type": "stream",
          "text": [
            "Random fruit: orange\n"
          ]
        }
      ],
      "source": [
        "fruits = [\"apple\", \"banana\", \"mango\", \"orange\"]\n",
        "choice = r.choice(fruits)\n",
        "print(\"Random fruit:\", choice)"
      ]
    },
    {
      "cell_type": "code",
      "execution_count": 13,
      "metadata": {
        "colab": {
          "base_uri": "https://localhost:8080/"
        },
        "id": "BsGD-Zh_zk0u",
        "outputId": "f070048e-0c8e-4d60-9afa-1ade9f12a5e6"
      },
      "outputs": [
        {
          "name": "stdout",
          "output_type": "stream",
          "text": [
            "Shuffled cards: [8, 2, 9, 5, 3, 6, 4, 7, 1]\n"
          ]
        }
      ],
      "source": [
        "cards = [1, 2, 3, 4, 5, 6, 7, 8, 9]\n",
        "r.shuffle(cards)\n",
        "print(\"Shuffled cards:\", cards)"
      ]
    },
    {
      "cell_type": "code",
      "execution_count": 15,
      "metadata": {
        "colab": {
          "base_uri": "https://localhost:8080/"
        },
        "id": "K9llMxRfzpaQ",
        "outputId": "717ff1d4-29e7-4da0-9c02-2a15638f13c8"
      },
      "outputs": [
        {
          "name": "stdout",
          "output_type": "stream",
          "text": [
            "Random numbers: [21, 6, 25, 7, 48, 18]\n"
          ]
        }
      ],
      "source": [
        "numbers = r.sample(range(1, 50), 6)  # 6 unique random numbers from 1 to 49\n",
        "print(\"Random numbers:\", numbers)"
      ]
    },
    {
      "cell_type": "code",
      "execution_count": 12,
      "metadata": {
        "colab": {
          "base_uri": "https://localhost:8080/"
        },
        "id": "UayKtk3rzwxG",
        "outputId": "7cfd5af3-c6c7-4030-d9ee-92bd0fb753e7"
      },
      "outputs": [
        {
          "name": "stdout",
          "output_type": "stream",
          "text": [
            "You rolled: 2\n"
          ]
        }
      ],
      "source": [
        "dice = r.randint(1, 6)\n",
        "print(\"You rolled:\", dice)"
      ]
    },
    {
      "cell_type": "code",
      "execution_count": 16,
      "metadata": {
        "colab": {
          "base_uri": "https://localhost:8080/"
        },
        "id": "76JC1u3bz0Nr",
        "outputId": "1370e9ee-a034-44c2-c71a-9d4d16fee2a4"
      },
      "outputs": [
        {
          "name": "stdout",
          "output_type": "stream",
          "text": [
            "Coin toss result: Tails\n"
          ]
        }
      ],
      "source": [
        "coin = r.choice([\"Heads\", \"Tails\"])\n",
        "print(\"Coin toss result:\", coin)"
      ]
    },
    {
      "cell_type": "markdown",
      "metadata": {
        "id": "QHTJbOfi17oY"
      },
      "source": [
        "### Task\n",
        "\n",
        "1. Write a program to generate a random integer between 1 and 10 using the random module.\n",
        "2. Generate a random even number between 2 and 20.\n",
        "3. Generate a random password of length 6 using only digits (0–9).\n",
        "4. Create a program that simulates rolling two dice and prints their sum.\n",
        "5. Create a simple game: The computer chooses a random number between 1 and 20, and the user has to guess it. Give hints like \"Too high\" or \"Too low.\""
      ]
    },
    {
      "cell_type": "code",
      "execution_count": 17,
      "metadata": {
        "id": "XY9hzfMB22FO"
      },
      "outputs": [
        {
          "name": "stdout",
          "output_type": "stream",
          "text": [
            "I have chosen a number between 1 and 20. Can you guess it?\n",
            "Too high! Try again.\n",
            "Too high! Try again.\n",
            "Too high! Try again.\n",
            "Too low! Try again.\n",
            "Too low! Try again.\n",
            "Too low! Try again.\n",
            "🎉 Congratulations! You guessed it right.\n"
          ]
        }
      ],
      "source": [
        "import random\n",
        "\n",
        "# computer chooses a random number\n",
        "secret_number = random.randint(1, 20)\n",
        "\n",
        "print(\"I have chosen a number between 1 and 20. Can you guess it?\")\n",
        "\n",
        "while True:\n",
        "    guess = int(input(\"Enter your guess: \"))\n",
        "\n",
        "    if guess == secret_number:\n",
        "        print(\"🎉 Congratulations! You guessed it right.\")\n",
        "        break\n",
        "    elif guess < secret_number:\n",
        "        print(\"Too low! Try again.\")\n",
        "    else:\n",
        "        print(\"Too high! Try again.\")"
      ]
    },
    {
      "cell_type": "code",
      "execution_count": 18,
      "metadata": {
        "id": "MQbofsJT3WrW"
      },
      "outputs": [
        {
          "name": "stdout",
          "output_type": "stream",
          "text": [
            "Die 1: 2\n",
            "Die 2: 4\n",
            "Sum: 6\n"
          ]
        }
      ],
      "source": [
        "import random\n",
        "\n",
        "# roll two dice\n",
        "die1 = random.randint(1, 6)\n",
        "die2 = random.randint(1, 6)\n",
        "\n",
        "# calculate sum\n",
        "total = die1 + die2\n",
        "\n",
        "print(f\"Die 1: {die1}\")\n",
        "print(f\"Die 2: {die2}\")\n",
        "print(f\"Sum: {total}\")"
      ]
    },
    {
      "cell_type": "code",
      "execution_count": null,
      "metadata": {
        "id": "JNo7yptf3tn9"
      },
      "outputs": [],
      "source": [
        "import random\n",
        "\n",
        "password = \"\"\n",
        "for _ in range(6):\n",
        "    digit = str(random.randint(0, 9))  # generate a random digit\n",
        "    password += digit\n",
        "\n",
        "print(\"Generated password:\", password)"
      ]
    },
    {
      "cell_type": "markdown",
      "metadata": {
        "id": "vKtuply69XFL"
      },
      "source": [
        "#Other Packages\n",
        "---\n",
        "**numpy** Array handling abilities; the foundation for all other scientific and Machine Learning algorithm implementations\n",
        "\n",
        "**scipy** This is not a single library. It is a collection scientific computational modules such as linear algebra, statistics, ODE solvers, optimizers, special functions and so on.\n",
        "\n",
        "**matplotlib** The comprehensive and somewhat complex plotting library. Newer libraries include seaborn, vega and plotly\n",
        "\n",
        "**pandas** The swiss army knife of large data manipulation\n",
        "\n",
        "**pillow** Python imaging library.\n",
        "\n",
        "**openCV** Comprehensive computer vision library\n",
        "\n",
        "**tweepy** Twitter API\n",
        "\n",
        "**sympy** to carry out symbolic computation.\n",
        "\n",
        "**nltk** a humongous collection of libraries and corpora for natural language processing. spacy is a new library for the same purpose\n",
        "\n",
        "**scikit**-learn the most popular and complete classical machine learning library\n",
        "\n",
        "**Keras** Attempts to be a user friendly neural network library on top of theano, tensorflow etc\n",
        "\n",
        "**Tensorflow** A symbolic library and dataflow programming toolkit very suited for complex machine learning tasks\n",
        "\n",
        "**pyTorch** Similar to tensorflow but many find it easier to use"
      ]
    }
  ],
  "metadata": {
    "colab": {
      "provenance": []
    },
    "kernelspec": {
      "display_name": "linux_env",
      "language": "python",
      "name": "python3"
    },
    "language_info": {
      "codemirror_mode": {
        "name": "ipython",
        "version": 3
      },
      "file_extension": ".py",
      "mimetype": "text/x-python",
      "name": "python",
      "nbconvert_exporter": "python",
      "pygments_lexer": "ipython3",
      "version": "3.12.3"
    }
  },
  "nbformat": 4,
  "nbformat_minor": 0
}
