{
 "cells": [
  {
   "cell_type": "markdown",
   "id": "2dbe7e06",
   "metadata": {},
   "source": [
    "# Tuple\n",
    "* Tuples are similar to lists, but unlike lists, they cannot be changed after their creation (i.e., they are immutable).\n",
    "* The main characteristics of tuples are being ordered , heterogeneous and immutable."
   ]
  },
  {
   "cell_type": "markdown",
   "id": "2e861107",
   "metadata": {},
   "source": [
    "## Creating Tuple"
   ]
  },
  {
   "cell_type": "code",
   "execution_count": 1,
   "id": "dfbc8282",
   "metadata": {},
   "outputs": [
    {
     "name": "stdout",
     "output_type": "stream",
     "text": [
      "()\n"
     ]
    }
   ],
   "source": [
    "tup = ()\n",
    "print(tup)"
   ]
  },
  {
   "cell_type": "code",
   "execution_count": 2,
   "id": "3a964649",
   "metadata": {},
   "outputs": [
    {
     "name": "stdout",
     "output_type": "stream",
     "text": [
      "('Mahatma', 'Gandhi')\n"
     ]
    }
   ],
   "source": [
    "# String\n",
    "tup = ('Mahatma', 'Gandhi')\n",
    "print(tup)"
   ]
  },
  {
   "cell_type": "code",
   "execution_count": 5,
   "id": "0935d9a8",
   "metadata": {},
   "outputs": [
    {
     "name": "stdout",
     "output_type": "stream",
     "text": [
      "(1, 2, 3, 4, 5)\n"
     ]
    }
   ],
   "source": [
    "# List\n",
    "li = [1, 2, 3, 4, 5]\n",
    "print(tuple(li))"
   ]
  },
  {
   "cell_type": "code",
   "execution_count": 6,
   "id": "8d309890",
   "metadata": {},
   "outputs": [
    {
     "name": "stdout",
     "output_type": "stream",
     "text": [
      "('S', 'u', 'n')\n"
     ]
    }
   ],
   "source": [
    "# Built in function\n",
    "tup = tuple(\"Sun\")\n",
    "print(tup)"
   ]
  },
  {
   "cell_type": "code",
   "execution_count": 8,
   "id": "5c6c636b",
   "metadata": {},
   "outputs": [
    {
     "name": "stdout",
     "output_type": "stream",
     "text": [
      "(5, 'Hello', 7, 'World')\n",
      "((0, 1, 2, 3), ('python', 'language'))\n",
      "('Pen', 'Pen', 'Pen')\n"
     ]
    }
   ],
   "source": [
    "tup = (5, 'Hello', 7, 'World')\n",
    "print(tup)\n",
    "\n",
    "# Creating a Tuple with nested tuples\n",
    "tup1 = (0, 1, 2, 3)\n",
    "tup2 = ('python', 'language')\n",
    "tup3 = (tup1, tup2)\n",
    "print(tup3)\n",
    "\n",
    "# Creating a Tuple with repetition\n",
    "tup1 = ('Pen',) * 3\n",
    "print(tup1)"
   ]
  },
  {
   "cell_type": "markdown",
   "id": "0a138190",
   "metadata": {},
   "source": [
    "## Accessing of Tuples"
   ]
  },
  {
   "cell_type": "code",
   "execution_count": 2,
   "id": "e1bb457b",
   "metadata": {},
   "outputs": [
    {
     "name": "stdout",
     "output_type": "stream",
     "text": [
      "('S', 't', 'u', 'd', 'e', 'n', 't', 's')\n",
      "e\n",
      "('t', 'u', 'd')\n",
      "('S', 't', 'u')\n",
      "('u', 't', 'S')\n",
      "Raj\n",
      "Arun\n",
      "Gourav\n"
     ]
    }
   ],
   "source": [
    "# Accessing Tuple with Indexing\n",
    "tup = tuple(\"Students\")\n",
    "print(tup)\n",
    "print(tup[4])\n",
    "\n",
    "# Accessing a range of elements using slicing\n",
    "print(tup[1:4])  \n",
    "print(tup[:3])\n",
    "print(tup[2::-1])\n",
    "\n",
    "# Tuple unpacking\n",
    "tup = (\"Raj\", \"Arun\", \"Gourav\")\n",
    "\n",
    "# This line unpack values of Tuple\n",
    "a, b, c = tup\n",
    "print(a)\n",
    "print(b)\n",
    "print(c)"
   ]
  },
  {
   "cell_type": "markdown",
   "id": "47c648f6",
   "metadata": {},
   "source": [
    "Task:\n",
    "\n",
    "Print the first and last fruit.\n",
    "\n",
    "Print the second and fourth elements."
   ]
  },
  {
   "cell_type": "code",
   "execution_count": 5,
   "id": "6a423c43",
   "metadata": {},
   "outputs": [],
   "source": [
    "t1 = (\"Apple\", \"Banana\", \"Orange\", \"Grapes\", \"Watermelon\")"
   ]
  },
  {
   "cell_type": "markdown",
   "id": "dc99ddd3",
   "metadata": {},
   "source": [
    "method 1"
   ]
  },
  {
   "cell_type": "code",
   "execution_count": 6,
   "id": "27f7af31",
   "metadata": {},
   "outputs": [
    {
     "name": "stdout",
     "output_type": "stream",
     "text": [
      "Apple Watermelon\n",
      "Banana Grapes\n"
     ]
    }
   ],
   "source": [
    "print(t1[0], t1[4])\n",
    "print(t1[1], t1[3])"
   ]
  },
  {
   "cell_type": "markdown",
   "id": "5376dca4",
   "metadata": {},
   "source": [
    "method 2"
   ]
  },
  {
   "cell_type": "code",
   "execution_count": 7,
   "id": "162b9f10",
   "metadata": {},
   "outputs": [
    {
     "name": "stdout",
     "output_type": "stream",
     "text": [
      "Apple Watermelon\n",
      "Banana Grapes\n"
     ]
    }
   ],
   "source": [
    "a, b, c, d, e = t1\n",
    "print(a, e)\n",
    "print(b, d)"
   ]
  },
  {
   "cell_type": "markdown",
   "id": "22f29c40",
   "metadata": {},
   "source": [
    "## Concatenation of Tuples\n"
   ]
  },
  {
   "cell_type": "code",
   "execution_count": 19,
   "id": "ef699d73",
   "metadata": {},
   "outputs": [
    {
     "name": "stdout",
     "output_type": "stream",
     "text": [
      "(0, 1, 2, 3, 'mango', 'apple', 'Grapes')\n"
     ]
    }
   ],
   "source": [
    "tup1 = (0, 1, 2, 3)\n",
    "tup2 = ('mango', 'apple', 'Grapes')\n",
    "\n",
    "tup3 = tup1 + tup2\n",
    "print(tup3)"
   ]
  },
  {
   "cell_type": "markdown",
   "id": "730f7a41",
   "metadata": {},
   "source": [
    "## Slicing of Tuple"
   ]
  },
  {
   "cell_type": "code",
   "execution_count": null,
   "id": "699e80d1",
   "metadata": {},
   "outputs": [
    {
     "name": "stdout",
     "output_type": "stream",
     "text": [
      "('h', 'o', 'n', ' ', 'D', 'o', 'e')\n",
      "('e', 'o', 'D', ' ', 'n', 'o', 'h', 'J')\n",
      "('o', 'n', ' ')\n"
     ]
    }
   ],
   "source": [
    "tup = tuple('Jhon Doe')\n",
    "\n",
    "# Removing First element\n",
    "print(tup[1:])\n",
    "\n",
    "# Reversing the Tuple\n",
    "print(tup[::-1])\n",
    "\n",
    "# Printing elements of a Range\n",
    "print(tup[2:5])"
   ]
  },
  {
   "cell_type": "code",
   "execution_count": 8,
   "id": "a728c0f2",
   "metadata": {},
   "outputs": [
    {
     "name": "stdout",
     "output_type": "stream",
     "text": [
      "Elephant\n",
      "lepha\n",
      "ephant\n",
      "Elep\n",
      "pelE\n"
     ]
    }
   ],
   "source": [
    "t1 = ('Elephant')\n",
    "print(t1)\n",
    "print(t1[1:6])\n",
    "print(t1[2:])\n",
    "print(t1[:4])\n",
    "print(t1[3::-1])"
   ]
  },
  {
   "cell_type": "markdown",
   "id": "b2315e09",
   "metadata": {},
   "source": [
    "## Deleting a Tuple\n"
   ]
  },
  {
   "cell_type": "code",
   "execution_count": 30,
   "id": "a5533ef3",
   "metadata": {},
   "outputs": [
    {
     "ename": "NameError",
     "evalue": "name 'tup' is not defined",
     "output_type": "error",
     "traceback": [
      "\u001b[31m---------------------------------------------------------------------------\u001b[39m",
      "\u001b[31mNameError\u001b[39m                                 Traceback (most recent call last)",
      "\u001b[36mCell\u001b[39m\u001b[36m \u001b[39m\u001b[32mIn[30]\u001b[39m\u001b[32m, line 4\u001b[39m\n\u001b[32m      1\u001b[39m tup = (\u001b[32m0\u001b[39m, \u001b[32m1\u001b[39m, \u001b[32m2\u001b[39m, \u001b[32m3\u001b[39m, \u001b[32m4\u001b[39m)\n\u001b[32m      2\u001b[39m \u001b[38;5;28;01mdel\u001b[39;00m tup\n\u001b[32m----> \u001b[39m\u001b[32m4\u001b[39m \u001b[38;5;28mprint\u001b[39m(\u001b[43mtup\u001b[49m)\n",
      "\u001b[31mNameError\u001b[39m: name 'tup' is not defined"
     ]
    }
   ],
   "source": [
    "tup = (0, 1, 2, 3, 4)\n",
    "del tup\n",
    "\n",
    "print(tup)"
   ]
  },
  {
   "cell_type": "code",
   "execution_count": 1,
   "id": "6ba67000",
   "metadata": {},
   "outputs": [
    {
     "name": "stdout",
     "output_type": "stream",
     "text": [
      "{}\n"
     ]
    }
   ],
   "source": [
    "dict = {}\n",
    "print(dict)"
   ]
  },
  {
   "cell_type": "markdown",
   "id": "829e34c2",
   "metadata": {},
   "source": [
    "## Tuple Unpacking with Asterisk (*)\n",
    "The \" * \" operator can be used in tuple unpacking to grab multiple items into a list"
   ]
  },
  {
   "cell_type": "code",
   "execution_count": 31,
   "id": "a8f741e8",
   "metadata": {},
   "outputs": [
    {
     "name": "stdout",
     "output_type": "stream",
     "text": [
      "1\n",
      "[2, 3, 4]\n",
      "5\n"
     ]
    }
   ],
   "source": [
    "tup = (1, 2, 3, 4, 5)\n",
    "\n",
    "a, *b, c = tup\n",
    "\n",
    "print(a) \n",
    "print(b) \n",
    "print(c)"
   ]
  },
  {
   "cell_type": "markdown",
   "id": "36a18fa0",
   "metadata": {},
   "source": [
    "# Sets\n",
    "* A set is a collection of items, unordered and without duplicates.\n",
    "* Written within '{ }'."
   ]
  },
  {
   "cell_type": "markdown",
   "id": "b678e4ce",
   "metadata": {},
   "source": [
    "## Creating a Set "
   ]
  },
  {
   "cell_type": "code",
   "execution_count": 28,
   "id": "d6cbc59b",
   "metadata": {},
   "outputs": [
    {
     "name": "stdout",
     "output_type": "stream",
     "text": [
      "{1, 2, 3, 4, 5}\n",
      "{'b', 'c', 'a'}\n",
      "{'b', 'c', 'a'}\n"
     ]
    }
   ],
   "source": [
    "set1 = {1, 2, 3, 4, 5}\n",
    "print(set1)\n",
    "\n",
    "set2 = set(['a', 'b', 'c']) # Python don’t preserve insertion order when printed\n",
    "print(set2)\n",
    "\n",
    "set3 = set('abc')\n",
    "print(set3)"
   ]
  },
  {
   "cell_type": "code",
   "execution_count": 10,
   "id": "c2dcd0c6",
   "metadata": {},
   "outputs": [
    {
     "name": "stdout",
     "output_type": "stream",
     "text": [
      "{'Jack', 'Anita', 'Rohan'} <class 'set'>\n",
      "{'Java', 'Python', 'C++'}\n",
      "{'Apple', 'Mango', 'Guava'}\n"
     ]
    }
   ],
   "source": [
    "# Creating a set with List\n",
    "s_1 = set([\"Rohan\", \"Jack\", \"Anita\"])\n",
    "print(s_1, type(s_1))\n",
    "\n",
    "# Creating a set with Tuple\n",
    "s_2 = (\"Python\", \"Java\", \"C++\")\n",
    "print(set(s_2))\n",
    "\n",
    "# Create a Set with Dictionary\n",
    "d = {\"Mango\": 1, \"Apple\": 2, \"Guava\": 3}\n",
    "print(set(d))"
   ]
  },
  {
   "cell_type": "code",
   "execution_count": 9,
   "id": "62fadb05",
   "metadata": {},
   "outputs": [
    {
     "name": "stdout",
     "output_type": "stream",
     "text": [
      "{1, 2, 3, 4, 5}\n"
     ]
    }
   ],
   "source": [
    "# Remove duplicate entries\n",
    "d1 = {1, 2, 3, 4, 5, 5, 4, 3, 2, 1}\n",
    "print(d1)"
   ]
  },
  {
   "cell_type": "code",
   "execution_count": 11,
   "id": "9f3a5617",
   "metadata": {},
   "outputs": [
    {
     "ename": "NameError",
     "evalue": "name 'd1' is not defined",
     "output_type": "error",
     "traceback": [
      "\u001b[31m---------------------------------------------------------------------------\u001b[39m",
      "\u001b[31mNameError\u001b[39m                                 Traceback (most recent call last)",
      "\u001b[36mCell\u001b[39m\u001b[36m \u001b[39m\u001b[32mIn[11]\u001b[39m\u001b[32m, line 1\u001b[39m\n\u001b[32m----> \u001b[39m\u001b[32m1\u001b[39m \u001b[38;5;28mprint\u001b[39m(\u001b[43md1\u001b[49m[\u001b[32m0\u001b[39m])\n",
      "\u001b[31mNameError\u001b[39m: name 'd1' is not defined"
     ]
    }
   ],
   "source": [
    "print(d1[0])"
   ]
  },
  {
   "cell_type": "code",
   "execution_count": 10,
   "id": "56f15d31",
   "metadata": {},
   "outputs": [
    {
     "name": "stdout",
     "output_type": "stream",
     "text": [
      "'set' object is not subscriptable\n"
     ]
    }
   ],
   "source": [
    "# Unindexed: Accessing elements by index is not possible\n",
    "# This will raise a TypeError\n",
    "try:\n",
    "    print(d1[0])\n",
    "except TypeError as e:\n",
    "    print(e)"
   ]
  },
  {
   "cell_type": "markdown",
   "id": "5f26bb68",
   "metadata": {},
   "source": [
    "## Adding Elements to a Set"
   ]
  },
  {
   "cell_type": "code",
   "execution_count": 11,
   "id": "e8d9d726",
   "metadata": {},
   "outputs": [
    {
     "name": "stdout",
     "output_type": "stream",
     "text": [
      "{1, 2, 3, 4}\n",
      "{1, 2, 3, 4, 5, 6}\n"
     ]
    }
   ],
   "source": [
    "l = {1, 2, 3}\n",
    "\n",
    "# Addone item\n",
    "l.add(4)\n",
    "print(l)\n",
    "\n",
    "# Add multiple items\n",
    "l.update([5, 6])\n",
    "print(l)"
   ]
  },
  {
   "cell_type": "markdown",
   "id": "95cbb0c3",
   "metadata": {},
   "source": [
    "## Accessing a Set"
   ]
  },
  {
   "cell_type": "code",
   "execution_count": 13,
   "id": "bd840352",
   "metadata": {},
   "outputs": [],
   "source": [
    "s1 = set([\"Rohan\", \"Jack\", \"Anita\"])"
   ]
  },
  {
   "cell_type": "code",
   "execution_count": 16,
   "id": "0f10a8c4",
   "metadata": {},
   "outputs": [
    {
     "name": "stdout",
     "output_type": "stream",
     "text": [
      "Jack,Anita,Rohan,"
     ]
    }
   ],
   "source": [
    "# Accessing element using For loop\n",
    "for i in s1:\n",
    "    print(i, end=\",\")"
   ]
  },
  {
   "cell_type": "code",
   "execution_count": 17,
   "id": "cceefb05",
   "metadata": {},
   "outputs": [
    {
     "name": "stdout",
     "output_type": "stream",
     "text": [
      "True\n",
      "False\n"
     ]
    }
   ],
   "source": [
    "# Checking the element# using in keyword\n",
    "print(\"Rohan\" in s1)\n",
    "print(\"Jhon\" in s1)"
   ]
  },
  {
   "cell_type": "markdown",
   "id": "b84d32fd",
   "metadata": {},
   "source": [
    "## Removing elements from a set"
   ]
  },
  {
   "cell_type": "code",
   "execution_count": 22,
   "id": "e0761612",
   "metadata": {},
   "outputs": [],
   "source": [
    "set1 = {1, 2, 3, 4, 5}"
   ]
  },
  {
   "cell_type": "code",
   "execution_count": 23,
   "id": "ba41f238",
   "metadata": {},
   "outputs": [
    {
     "name": "stdout",
     "output_type": "stream",
     "text": [
      "{1, 2, 4, 5}\n",
      "No. is not in the list: 10\n",
      "{1, 2, 5}\n",
      "{1, 2, 5}\n"
     ]
    }
   ],
   "source": [
    "# Using Remove Method\n",
    "set1.remove(3)\n",
    "print(set1)  \n",
    "\n",
    "# Attempting to remove an element that does not exist\n",
    "try:\n",
    "    set1.remove(10)\n",
    "except KeyError as e:\n",
    "    print(\"No. is not in the list:\", e) \n",
    "\n",
    "\n",
    "# Using discard() Method\n",
    "set1.discard(4)\n",
    "print(set1)  \n",
    "\n",
    "# Attempting to discard an element that does not exist\n",
    "set1.discard(10)  # No error raised\n",
    "print(set1)"
   ]
  },
  {
   "cell_type": "code",
   "execution_count": 23,
   "id": "64a865b1",
   "metadata": {},
   "outputs": [
    {
     "name": "stdout",
     "output_type": "stream",
     "text": [
      "1\n",
      "{2, 3, 4, 5}\n",
      "Error: 'pop from an empty set'\n"
     ]
    }
   ],
   "source": [
    "# Using pop() method\n",
    "set1 = {1, 2, 3, 4, 5}\n",
    "val = set1.pop()\n",
    "print(val)\n",
    "print(set1)\n",
    "\n",
    "# Using pop on an empty set\n",
    "set1.clear()  # Clear the set to make it empty\n",
    "try:\n",
    "    set1.pop()\n",
    "except KeyError as e:\n",
    "    print(\"Error:\", e)"
   ]
  },
  {
   "cell_type": "markdown",
   "id": "2c07babd",
   "metadata": {},
   "source": [
    "**Question**\n",
    "\n",
    "You are given an array arr[] of size n. You have to insert all elements of arr[] into a set and return that set .You are also given a interger x. If x is found in set then erase it from set and print \"erased x\", otherwise, print \"not found\".\n",
    "Example:\n",
    "\n",
    "n = 5 \n",
    "\n",
    "arr [ ] = 9 8 7 4 4"
   ]
  },
  {
   "cell_type": "code",
   "execution_count": 29,
   "id": "cf4412c9",
   "metadata": {},
   "outputs": [
    {
     "name": "stdout",
     "output_type": "stream",
     "text": [
      "[9, 8, 7, 4, 4]\n",
      "{8, 9, 4, 7}\n",
      "True\n",
      "{8, 9, 7}\n"
     ]
    }
   ],
   "source": [
    "n = 5\n",
    "arr = [9, 8, 7, 4, 4]\n",
    "# for i in range(n):\n",
    "#     v = int(input(\"Enter the number: \"))\n",
    "#     arr.append(v)\n",
    "\n",
    "print(arr)\n",
    "s = set(arr)\n",
    "print(s)\n",
    "\n",
    "print(4 in s)\n",
    "\n",
    "s.discard(4)\n",
    "print(s)"
   ]
  },
  {
   "cell_type": "markdown",
   "id": "a23712bf",
   "metadata": {},
   "source": [
    "TASK:\n",
    "\n",
    "fruits = {\"apple\", \"banana\", \"cherry\"}\n",
    "1. Add \"mango\" and \"orange\".\n",
    "2. Remove \"banana\" using remove().\n",
    "3. Try to remove \"grape\" safely (without error)."
   ]
  },
  {
   "cell_type": "code",
   "execution_count": null,
   "id": "2956d82d",
   "metadata": {},
   "outputs": [],
   "source": []
  },
  {
   "cell_type": "markdown",
   "id": "a2a4b208",
   "metadata": {},
   "source": [
    "## Frozen Set\n",
    "\n",
    "Once a frozenset is created, we cannot modify its elements that is we cannot add, remove or change any items in it."
   ]
  },
  {
   "cell_type": "code",
   "execution_count": 24,
   "id": "e0253347",
   "metadata": {},
   "outputs": [
    {
     "name": "stdout",
     "output_type": "stream",
     "text": [
      "frozenset({1, 2, 3, 4, 5})\n",
      "frozenset({1, 3, 4, 5})\n"
     ]
    }
   ],
   "source": [
    "# Creating a frozenset from a list\n",
    "fset = frozenset([1, 2, 3, 4, 5])\n",
    "print(fset)  \n",
    "\n",
    "# Creating a frozenset from a set\n",
    "set1 = {3, 1, 4, 1, 5}\n",
    "fset = frozenset(set1)\n",
    "print(fset)"
   ]
  },
  {
   "cell_type": "markdown",
   "id": "164c0fea",
   "metadata": {},
   "source": [
    "## Typecasting Objects into Sets"
   ]
  },
  {
   "cell_type": "code",
   "execution_count": 25,
   "id": "68144189",
   "metadata": {},
   "outputs": [
    {
     "name": "stdout",
     "output_type": "stream",
     "text": [
      "{1, 2, 3, 4, 5, 6}\n",
      "{'d', 'I', 'n', 'a', 'i'}\n",
      "{1, 2, 3}\n"
     ]
    }
   ],
   "source": [
    "# Typecasting list into set\n",
    "li = [1, 2, 3, 3, 4, 5, 5, 6, 2]\n",
    "set1 = set(li)\n",
    "print(set1)\n",
    "\n",
    "# Typecasting string into set\n",
    "s = \"India\"\n",
    "set1 = set(s)\n",
    "print(set1)\n",
    "\n",
    "# Typecasting dictionary into set\n",
    "d = {1: \"One\", 2: \"Two\", 3: \"Three\"}\n",
    "set1 = set(d)\n",
    "print(set1)"
   ]
  },
  {
   "cell_type": "code",
   "execution_count": null,
   "id": "20fb9ca1",
   "metadata": {},
   "outputs": [
    {
     "name": "stdout",
     "output_type": "stream",
     "text": [
      "[1, 2, 3] <class 'list'>\n"
     ]
    }
   ],
   "source": [
    "s = {1, 2, 3}\n",
    "li = list(s) # tuple()\n",
    "print(li, type(li))"
   ]
  },
  {
   "cell_type": "markdown",
   "id": "d01a8a0b",
   "metadata": {},
   "source": [
    "## Maximum and Minimum element in a Set"
   ]
  },
  {
   "cell_type": "code",
   "execution_count": 29,
   "id": "5bfd6e93",
   "metadata": {},
   "outputs": [
    {
     "name": "stdout",
     "output_type": "stream",
     "text": [
      "Minimum element:  4\n",
      "Maximum element:  13\n"
     ]
    }
   ],
   "source": [
    "s1 = {4, 12, 10, 9, 4, 13}\n",
    "\n",
    "print(\"Minimum element: \", min(s1))      \n",
    "print(\"Maximum element: \", max(s1))"
   ]
  },
  {
   "cell_type": "code",
   "execution_count": 32,
   "id": "eca9840c",
   "metadata": {},
   "outputs": [
    {
     "data": {
      "text/plain": [
       "5"
      ]
     },
     "execution_count": 32,
     "metadata": {},
     "output_type": "execute_result"
    }
   ],
   "source": [
    "l = {6,5,9,8}\n",
    "max(l)\n",
    "min(l)"
   ]
  },
  {
   "cell_type": "markdown",
   "id": "7e86ae13",
   "metadata": {},
   "source": [
    "## Sorted() function"
   ]
  },
  {
   "cell_type": "code",
   "execution_count": null,
   "id": "c0a97a52",
   "metadata": {},
   "outputs": [
    {
     "name": "stdout",
     "output_type": "stream",
     "text": [
      "[1, 3, 5, 7, 9] <class 'list'>\n",
      "Minimum element:  1\n",
      "Maximum element:  9\n"
     ]
    }
   ],
   "source": [
    "s = {5, 3, 9, 1, 7}\n",
    "\n",
    "# Sorting the set (converts it into a sorted list)\n",
    "sorted_s = sorted(s)\n",
    "print(sorted_s, type(sorted_s))\n",
    "\n",
    "print(\"Minimum element: \", sorted_s[0])\n",
    "print(\"Maximum element: \", sorted_s[-1])"
   ]
  },
  {
   "cell_type": "markdown",
   "id": "60f1c8cc",
   "metadata": {},
   "source": [
    "## SET operations\n",
    "____\n",
    "### Union of sets\n",
    "* The union of two sets combines all unique elements from both sets.\n",
    "\n",
    "* Using **|** operator."
   ]
  },
  {
   "cell_type": "code",
   "execution_count": null,
   "id": "682daacb",
   "metadata": {},
   "outputs": [
    {
     "name": "stdout",
     "output_type": "stream",
     "text": [
      "using '|': {1, 2, 3, 4, 5, 6}\n",
      "using union(): {1, 2, 3, 4, 5, 6}\n"
     ]
    }
   ],
   "source": [
    "A = {1, 2, 3, 4}\n",
    "B = {3, 4, 5, 6}   # c = {1,2,3,4,5,6}\n",
    "\n",
    "# Using '|' operator\n",
    "res1 = A | B\n",
    "print(\"using '|':\", res1)\n",
    "\n",
    "# Using union() method\n",
    "res2 = A.union(B)\n",
    "print(\"using union():\",res2)"
   ]
  },
  {
   "cell_type": "markdown",
   "id": "cf0ae544",
   "metadata": {},
   "source": [
    "### Intersection of sets\n",
    "* The intersection of two sets includes only the common elements present in both sets.\n",
    "* Using **&** operator."
   ]
  },
  {
   "cell_type": "code",
   "execution_count": 33,
   "id": "6a811554",
   "metadata": {},
   "outputs": [
    {
     "name": "stdout",
     "output_type": "stream",
     "text": [
      "using '&': {3, 4}\n",
      "using intersection(): {3, 4}\n"
     ]
    }
   ],
   "source": [
    "A = {1, 2, 3, 4}\n",
    "B = {3, 4, 5, 6}\n",
    "\n",
    "# Using '&' operator\n",
    "res1 = A & B\n",
    "print(\"using '&':\",res1)\n",
    "\n",
    "# Using intersection() method\n",
    "res2 = A.intersection(B)\n",
    "print(\"using intersection():\",res2)"
   ]
  },
  {
   "cell_type": "markdown",
   "id": "608ef750",
   "metadata": {},
   "source": [
    "### Difference of sets\n",
    "* The difference between two sets includes elements present in the first set but not in the second.\n",
    "* Using '-' operator."
   ]
  },
  {
   "cell_type": "code",
   "execution_count": 34,
   "id": "3f5283b5",
   "metadata": {},
   "outputs": [
    {
     "name": "stdout",
     "output_type": "stream",
     "text": [
      "using '-': {1, 2}\n",
      "using difference(): {1, 2}\n"
     ]
    }
   ],
   "source": [
    "A = {1, 2, 3, 4}\n",
    "B = {3, 4, 5, 6}\n",
    "\n",
    "# Using '-' operator\n",
    "res1 = A - B\n",
    "print(\"using '-':\", res1)\n",
    "\n",
    "# Using difference() method\n",
    "res2 = A.difference(B)\n",
    "print(\"using difference():\", res2)"
   ]
  },
  {
   "cell_type": "markdown",
   "id": "84ea8dba",
   "metadata": {},
   "source": [
    "### Symmetric Difference\n",
    "* The symmetric difference of two sets includes elements that are in either set but not in both.\n",
    "* Using '^' ooperator."
   ]
  },
  {
   "cell_type": "code",
   "execution_count": 35,
   "id": "03444597",
   "metadata": {},
   "outputs": [
    {
     "name": "stdout",
     "output_type": "stream",
     "text": [
      "using '^': {1, 2, 5, 6}\n",
      "using symmetric_difference(): {1, 2, 5, 6}\n"
     ]
    }
   ],
   "source": [
    "A = {1, 2, 3, 4}\n",
    "B = {3, 4, 5, 6}\n",
    "\n",
    "# Using '^' operator\n",
    "res1 = A ^ B\n",
    "print(\"using '^':\", res1)\n",
    "\n",
    "# Using symmetric_difference() method\n",
    "res2 = A.symmetric_difference(B)\n",
    "print(\"using symmetric_difference():\", res2)"
   ]
  },
  {
   "cell_type": "markdown",
   "id": "fee6acae",
   "metadata": {},
   "source": [
    "**QUESTION**\n",
    "\n",
    "Given some elements in two sets a and b, the task is to find the elements common in two sets, elements in both the sets, elements that are only in set a, not in b.\n",
    "\n",
    "Example:\n",
    "\n",
    "a = {1, 2, 3, 4, 5}\n",
    "\n",
    "b = {6, 7, 8, 2, 3}"
   ]
  },
  {
   "cell_type": "code",
   "execution_count": 4,
   "id": "38082c8b",
   "metadata": {},
   "outputs": [
    {
     "name": "stdout",
     "output_type": "stream",
     "text": [
      "{2, 3}\n",
      "{1, 2, 3, 4, 5, 6, 7, 8}\n",
      "{1, 4, 5}\n"
     ]
    }
   ],
   "source": [
    "a = {1,2,3,4,5}\n",
    "b = {6,7,8,2,3}\n",
    "\n",
    "# Elements common in two Sets\n",
    "# Intersection poperation\n",
    "c = a & b\n",
    "print(c)\n",
    "\n",
    "# Elements in both the Sets\n",
    "# Union Operation\n",
    "d = a | b\n",
    "print(d)\n",
    "\n",
    "# Elements in a but not in b\n",
    "# Difference Operation\n",
    "e = a - b\n",
    "print(e)"
   ]
  },
  {
   "cell_type": "markdown",
   "id": "73c75c58",
   "metadata": {},
   "source": [
    "In a school:\n",
    "\n",
    "Set A = students who play cricket = {\"Ravi\", \"Anita\", \"Sonia\", \"Aman\"}\n",
    "\n",
    "Set B = students who play football = {\"Anita\", \"Rahul\", \"Aman\", \"Neha\"}\n",
    "\n",
    "* Find students who play both cricket and football.\n",
    "\n",
    "* Find students who play only cricket but not football.\n",
    "\n",
    "* Find students who play either cricket or football, but not both."
   ]
  },
  {
   "cell_type": "code",
   "execution_count": 7,
   "id": "0fda072e",
   "metadata": {},
   "outputs": [
    {
     "name": "stdout",
     "output_type": "stream",
     "text": [
      "{'Aman', 'Anita'}\n",
      "{'Ravi', 'Sonia'}\n",
      "{'Rahul', 'Neha'}\n",
      "{'Neha', 'Ravi', 'Rahul', 'Sonia'}\n"
     ]
    }
   ],
   "source": [
    "Set_A = {\"Ravi\", \"Anita\", \"Sonia\", \"Aman\"}\n",
    "Set_B = {\"Anita\", \"Rahul\", \"Aman\", \"Neha\"}\n",
    "\n",
    "Set_c = Set_A & Set_B\n",
    "print(Set_c)\n",
    "\n",
    "d = Set_A - Set_B\n",
    "print(d)\n",
    "\n",
    "e = Set_B - Set_A\n",
    "print(e)\n",
    "\n",
    "f = Set_A ^ Set_B\n",
    "print(f)"
   ]
  },
  {
   "cell_type": "markdown",
   "id": "eee4e224",
   "metadata": {},
   "source": [
    "You are given an array A of size N. you need to insert the elements of A into a multiset and display the results. Also, you need to erase a given element x from the multiset and print \"erased x\" if successfully erased, else print \"not found\"\n",
    "\n",
    "Example:\n",
    "\n",
    "Input:\n",
    "\n",
    "N = 10\n",
    "\n",
    "A[] = 9 8 7 4 4 2 1 1 9 8\n",
    "\n",
    "x = 1\n",
    "\n",
    "Output: \n",
    "\n",
    "1 1 2 4 4 7 8 8 9 9\n",
    "\n",
    "erased 1\n",
    "\n",
    "2 4 4 7 8 8 9 9\n",
    "\n",
    "Your Task:\n",
    "\n",
    "Since this is a function problem, you don't need to take any input. Just complete the provided functions. In a new line, print the required output.\n"
   ]
  }
 ],
 "metadata": {
  "kernelspec": {
   "display_name": "linux_env",
   "language": "python",
   "name": "python3"
  },
  "language_info": {
   "codemirror_mode": {
    "name": "ipython",
    "version": 3
   },
   "file_extension": ".py",
   "mimetype": "text/x-python",
   "name": "python",
   "nbconvert_exporter": "python",
   "pygments_lexer": "ipython3",
   "version": "3.12.3"
  }
 },
 "nbformat": 4,
 "nbformat_minor": 5
}
