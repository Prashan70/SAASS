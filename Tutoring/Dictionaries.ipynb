{
 "cells": [
  {
   "cell_type": "markdown",
   "id": "e18453e5",
   "metadata": {},
   "source": [
    "# Dictionaries\n",
    "- A dictionary stores data in key–value pairs.\n",
    "- Think of it like a real dictionary: a word (**key**) and its meaning (**value**).\n",
    "\n",
    "Example-\n",
    "\n",
    "- {'apple' : 'Fruit'}\n",
    "\n",
    "apple = key,\n",
    "\n",
    "Fruit = value"
   ]
  },
  {
   "cell_type": "code",
   "execution_count": 1,
   "id": "05575377",
   "metadata": {},
   "outputs": [
    {
     "name": "stdout",
     "output_type": "stream",
     "text": [
      "{1: 'Apple', 2: 'Mango', 3: 'Grapes'}\n"
     ]
    }
   ],
   "source": [
    "d = {1: 'Apple', 2: 'Mango', 3: 'Grapes'}\n",
    "print(d)"
   ]
  },
  {
   "cell_type": "markdown",
   "id": "3a0f04f9",
   "metadata": {},
   "source": [
    "## How to Create a Dictionary\n",
    "Arrange sequence of elements within curly {} braces, separated by a 'comma'."
   ]
  },
  {
   "cell_type": "code",
   "execution_count": 2,
   "id": "8611a72e",
   "metadata": {},
   "outputs": [
    {
     "name": "stdout",
     "output_type": "stream",
     "text": [
      "{'country': 'India'}\n"
     ]
    }
   ],
   "source": [
    "r = {'country': 'India'}\n",
    "print(r)"
   ]
  },
  {
   "cell_type": "code",
   "execution_count": null,
   "id": "8be4060d",
   "metadata": {},
   "outputs": [
    {
     "name": "stdout",
     "output_type": "stream",
     "text": [
      "{1: 'Apple', 2: 'Mango', 3: 'Grapes'}\n",
      "{'a': 'Orange', 'b': 'Banana', 'c': 'Coconut'}\n"
     ]
    }
   ],
   "source": [
    "d1 = {1: 'Apple', 2: 'Mango', 3: 'Grapes'}\n",
    "print(d1)\n",
    "\n",
    "# create dictionary using dict() constructor\n",
    "d2 = dict(a = \"Orange\", b = \"Banana\", c = \"Coconut\")\n",
    "print(d2)"
   ]
  },
  {
   "cell_type": "markdown",
   "id": "a17d4eaa",
   "metadata": {},
   "source": [
    "## Things to remeber:"
   ]
  },
  {
   "cell_type": "markdown",
   "id": "664fad40",
   "metadata": {},
   "source": [
    "1. Keys must be unique."
   ]
  },
  {
   "cell_type": "code",
   "execution_count": 3,
   "id": "fc3779ef",
   "metadata": {},
   "outputs": [
    {
     "name": "stdout",
     "output_type": "stream",
     "text": [
      "{'name': 'Ravi', 'age': 16}\n"
     ]
    }
   ],
   "source": [
    "student = {\n",
    "    \"name\": \"Ravi\",\n",
    "    \"age\": 15,\n",
    "    \"age\": 16    # Duplicate key\n",
    "}\n",
    "print(student)\n"
   ]
  },
  {
   "cell_type": "markdown",
   "id": "3100d7ce",
   "metadata": {},
   "source": [
    "2. Keys can be strings, numbers or tuples but not lists."
   ]
  },
  {
   "cell_type": "code",
   "execution_count": 6,
   "id": "ae67f160",
   "metadata": {},
   "outputs": [
    {
     "name": "stdout",
     "output_type": "stream",
     "text": [
      "{'name': 'Ravi', 101: 'Roll Number', (1, 2): 'tuple key'}\n"
     ]
    }
   ],
   "source": [
    "example = {\n",
    "    \"name\": \"Ravi\",      # string key\n",
    "    101: \"Roll Number\",  # number key\n",
    "    (1, 2): \"tuple key\"  # tuple key\n",
    "}\n",
    "print(example)\n"
   ]
  },
  {
   "cell_type": "code",
   "execution_count": 7,
   "id": "0a45d937",
   "metadata": {},
   "outputs": [
    {
     "ename": "TypeError",
     "evalue": "unhashable type: 'list'",
     "output_type": "error",
     "traceback": [
      "\u001b[31m---------------------------------------------------------------------------\u001b[39m",
      "\u001b[31mTypeError\u001b[39m                                 Traceback (most recent call last)",
      "\u001b[36mCell\u001b[39m\u001b[36m \u001b[39m\u001b[32mIn[7]\u001b[39m\u001b[32m, line 1\u001b[39m\n\u001b[32m----> \u001b[39m\u001b[32m1\u001b[39m bad_example = {[\u001b[32m1\u001b[39m, \u001b[32m2\u001b[39m, \u001b[32m3\u001b[39m]: \u001b[33m\"\u001b[39m\u001b[33mlist key\u001b[39m\u001b[33m\"\u001b[39m}   \u001b[38;5;66;03m# Error\u001b[39;00m\n",
      "\u001b[31mTypeError\u001b[39m: unhashable type: 'list'"
     ]
    }
   ],
   "source": [
    "bad_example = {[1, 2, 3]: \"list key\"}   # Error\n"
   ]
  },
  {
   "cell_type": "markdown",
   "id": "defc8804",
   "metadata": {},
   "source": [
    "3. Dictionary keys are case sensitive."
   ]
  },
  {
   "cell_type": "code",
   "execution_count": 8,
   "id": "9ece3ae0",
   "metadata": {},
   "outputs": [
    {
     "name": "stdout",
     "output_type": "stream",
     "text": [
      "{'Name': 'Ravi', 'name': 'Aman'}\n"
     ]
    }
   ],
   "source": [
    "student = {\n",
    "    \"Name\": \"Ravi\",\n",
    "    \"name\": \"Aman\"\n",
    "}\n",
    "print(student)\n"
   ]
  },
  {
   "cell_type": "markdown",
   "id": "8169d0ac",
   "metadata": {},
   "source": [
    "### Workout Questions\n",
    "1. Create a dictionary to store the following student information:\n",
    "\n",
    "- Name: \"Anita\"\n",
    "\n",
    "- Age: 14\n",
    "\n",
    "- Class: 9\n",
    "\n",
    "- Marks: 88\n",
    "\n",
    "2. Make a dictionary with 3 countries and their capitals. Example keys: \"India\", \"France\", \"Japan\"."
   ]
  },
  {
   "cell_type": "code",
   "execution_count": 4,
   "id": "c63bbec8",
   "metadata": {},
   "outputs": [
    {
     "name": "stdout",
     "output_type": "stream",
     "text": [
      "{'Name': 'Anita', 'Age': 16, 'Class': 9, 'Marks': 88}\n"
     ]
    }
   ],
   "source": [
    "Student ={'Name': 'Anita', 'Age': 16, 'Class' : 9, 'Marks': 88}\n",
    "print(Student)"
   ]
  },
  {
   "cell_type": "code",
   "execution_count": 5,
   "id": "c2ca26c5",
   "metadata": {},
   "outputs": [
    {
     "name": "stdout",
     "output_type": "stream",
     "text": [
      "{'India': 'Delhi', 'France': 'Paris', 'Japan': 'Tokyo'}\n"
     ]
    }
   ],
   "source": [
    "countries = {'India': 'Delhi', 'France': 'Paris', 'Japan': 'Tokyo'}\n",
    "print(countries)"
   ]
  },
  {
   "cell_type": "markdown",
   "id": "5ae1874e",
   "metadata": {},
   "source": [
    "## Accessing Dictionary Items"
   ]
  },
  {
   "cell_type": "code",
   "execution_count": 6,
   "id": "e725688d",
   "metadata": {},
   "outputs": [
    {
     "name": "stdout",
     "output_type": "stream",
     "text": [
      "Amit\n",
      "Amit\n"
     ]
    }
   ],
   "source": [
    "d = { \"name\": \"Amit\", 1: \"Python\", (1, 2): [3,6,9] }\n",
    "\n",
    "# Access using key\n",
    "print(d[\"name\"])\n",
    "\n",
    "# Access using get()\n",
    "print(d.get(\"name\"))"
   ]
  },
  {
   "cell_type": "code",
   "execution_count": 7,
   "id": "97956991",
   "metadata": {},
   "outputs": [
    {
     "name": "stdout",
     "output_type": "stream",
     "text": [
      "[3, 6, 9]\n"
     ]
    }
   ],
   "source": [
    "print(d[(1,2)])"
   ]
  },
  {
   "cell_type": "markdown",
   "id": "6e6321a3",
   "metadata": {},
   "source": [
    "## Adding and Updating Dictionary Items"
   ]
  },
  {
   "cell_type": "code",
   "execution_count": 8,
   "id": "e4e0da15",
   "metadata": {},
   "outputs": [
    {
     "name": "stdout",
     "output_type": "stream",
     "text": [
      "{1: 'India Gate', 2: 'Red Fort', 3: 'Qutub Minanar', 'age': 22}\n"
     ]
    }
   ],
   "source": [
    "d = {1: 'Taj Mahal', 2: 'Red Fort', 3: 'Qutub Minanar'}\n",
    "\n",
    "# Adding a new key-value pair\n",
    "d[\"age\"] = 22\n",
    "\n",
    "# Updating an existing value\n",
    "d[1] = \"India Gate\"\n",
    "\n",
    "print(d)"
   ]
  },
  {
   "cell_type": "code",
   "execution_count": 9,
   "id": "21687b47",
   "metadata": {},
   "outputs": [
    {
     "name": "stdout",
     "output_type": "stream",
     "text": [
      "{1: 'India Gate', 2: 'Red Fort', 3: 'Qutub Minanar', 'age': 22, 4: 'Hawa Mahal'}\n"
     ]
    }
   ],
   "source": [
    "d[4] = 'Hawa Mahal'\n",
    "print(d)"
   ]
  },
  {
   "cell_type": "code",
   "execution_count": 10,
   "id": "38133256",
   "metadata": {},
   "outputs": [
    {
     "name": "stdout",
     "output_type": "stream",
     "text": [
      "{1: 'India Gate', 2: 'Red Fort', 3: 'Qutub Minanar', 'age': 56, 4: 'Hawa Mahal'}\n"
     ]
    }
   ],
   "source": [
    "d[\"age\"] = 56\n",
    "print(d)"
   ]
  },
  {
   "cell_type": "markdown",
   "id": "153a73d4",
   "metadata": {},
   "source": [
    "## Removing Dictionary Items"
   ]
  },
  {
   "cell_type": "code",
   "execution_count": 12,
   "id": "1c924a92",
   "metadata": {},
   "outputs": [],
   "source": [
    "d = {1: 'Sunflower', 2: 'Rose', 3: 'Jasmine', 4: 'Lily'}"
   ]
  },
  {
   "cell_type": "markdown",
   "id": "4ae2f04d",
   "metadata": {},
   "source": [
    "**del()**: Remove the key."
   ]
  },
  {
   "cell_type": "code",
   "execution_count": 13,
   "id": "7d8deffc",
   "metadata": {},
   "outputs": [
    {
     "name": "stdout",
     "output_type": "stream",
     "text": [
      "{1: 'Sunflower', 2: 'Rose', 4: 'Lily'}\n"
     ]
    }
   ],
   "source": [
    "# Using del to remove an item\n",
    "del d[3]\n",
    "print(d)"
   ]
  },
  {
   "cell_type": "markdown",
   "id": "d90b3e61",
   "metadata": {},
   "source": [
    "**pop()**: Removes an item by key and returns its value."
   ]
  },
  {
   "cell_type": "code",
   "execution_count": 14,
   "id": "2b9badb5",
   "metadata": {},
   "outputs": [
    {
     "name": "stdout",
     "output_type": "stream",
     "text": [
      "Sunflower\n"
     ]
    }
   ],
   "source": [
    "# Using pop() to remove an item and return the value\n",
    "val = d.pop(1) #sunflower\n",
    "print(val)"
   ]
  },
  {
   "cell_type": "markdown",
   "id": "2a43669e",
   "metadata": {},
   "source": [
    "**popitem()**: Removes and returns the last key-value pair."
   ]
  },
  {
   "cell_type": "code",
   "execution_count": 16,
   "id": "728dac5c",
   "metadata": {},
   "outputs": [
    {
     "name": "stdout",
     "output_type": "stream",
     "text": [
      "Key: 4, Value: Lily\n"
     ]
    }
   ],
   "source": [
    "# Using popitem to removes and returns\n",
    "# the last key-value pair.\n",
    "key, val = d.popitem()\n",
    "print(f\"Key: {key}, Value: {val}\")"
   ]
  },
  {
   "cell_type": "markdown",
   "id": "9fe69753",
   "metadata": {},
   "source": [
    "**clear()**: Empties Dictionary."
   ]
  },
  {
   "cell_type": "code",
   "execution_count": 17,
   "id": "f16f684c",
   "metadata": {},
   "outputs": [
    {
     "name": "stdout",
     "output_type": "stream",
     "text": [
      "{}\n"
     ]
    }
   ],
   "source": [
    "# Clear all items from the dictionary\n",
    "d.clear()\n",
    "print(d)"
   ]
  },
  {
   "cell_type": "markdown",
   "id": "73bc23c4",
   "metadata": {},
   "source": [
    "### Workout time\n",
    "**<u>Library Books</u>**\n",
    "\n",
    "Create a dictionary called *library* with these key–value pairs:\n",
    "\n",
    "{\n",
    "\n",
    "    \"Book1\": \"Maths\",\n",
    "\n",
    "    \"Book2\": \"Science\",\n",
    "\n",
    "    \"Book3\": \"History\"\n",
    "\n",
    "}\n",
    "\n",
    "\n",
    "*Task:*\n",
    "\n",
    "1. Access and print the subject of \"Book2\".\n",
    "\n",
    "2. Add a new key \"Book4\" with value \"English\".\n",
    "\n",
    "3. Update \"Book3\" to \"Geography\"."
   ]
  },
  {
   "cell_type": "code",
   "execution_count": 15,
   "id": "d28d7671",
   "metadata": {},
   "outputs": [],
   "source": [
    "library = {\"Book1\": \"Maths\", \"Book2\" : \"Science\", \"Book3\" : \"History\"}\n"
   ]
  },
  {
   "cell_type": "code",
   "execution_count": 16,
   "id": "3e665f9a",
   "metadata": {},
   "outputs": [
    {
     "name": "stdout",
     "output_type": "stream",
     "text": [
      "Science\n"
     ]
    }
   ],
   "source": [
    "print(library[\"Book2\"])"
   ]
  },
  {
   "cell_type": "code",
   "execution_count": 18,
   "id": "d7bd6de9",
   "metadata": {},
   "outputs": [
    {
     "name": "stdout",
     "output_type": "stream",
     "text": [
      "{'Book1': 'Maths', 'Book2': 'Science', 'Book3': 'History', 'Book4': 'English'}\n"
     ]
    }
   ],
   "source": [
    "library[\"Book4\"] = \"English\"\n",
    "print(library)"
   ]
  },
  {
   "cell_type": "code",
   "execution_count": 19,
   "id": "e3bacf27",
   "metadata": {},
   "outputs": [
    {
     "name": "stdout",
     "output_type": "stream",
     "text": [
      "{'Book1': 'Maths', 'Book2': 'Science', 'Book3': 'Geography', 'Book4': 'English'}\n"
     ]
    }
   ],
   "source": [
    "library[\"Book3\"] = \"Geography\"\n",
    "print(library)"
   ]
  },
  {
   "cell_type": "markdown",
   "id": "e5a3ec5d",
   "metadata": {},
   "source": [
    "**<u>Grocery Items</u>**\n",
    "\n",
    "{\n",
    "    \n",
    "    \"apple\": 50,\n",
    "\n",
    "    \"banana\": 20,\n",
    "    \n",
    "    \"milk\": 40\n",
    "\n",
    "}\n",
    "\n",
    "*Tasks:*\n",
    "\n",
    "- Remove \"banana\" using del.\n",
    "\n",
    "- Remove \"milk\" using .pop().\n",
    "\n",
    "- Clear the dictionary using .clear().\n",
    "\n",
    "- Print the final dictionary."
   ]
  },
  {
   "cell_type": "code",
   "execution_count": 20,
   "id": "9071e397",
   "metadata": {},
   "outputs": [
    {
     "name": "stdout",
     "output_type": "stream",
     "text": [
      "{'apple': 50, 'banana': 20, 'milk': 40}\n"
     ]
    }
   ],
   "source": [
    "Items = {\"apple\" : 50, \"banana\" : 20, \"milk\" : 40}\n",
    "print(Items)"
   ]
  },
  {
   "cell_type": "code",
   "execution_count": 21,
   "id": "894a2ace",
   "metadata": {},
   "outputs": [
    {
     "name": "stdout",
     "output_type": "stream",
     "text": [
      "{'apple': 50, 'milk': 40}\n"
     ]
    }
   ],
   "source": [
    "del Items[\"banana\"]\n",
    "print(Items)"
   ]
  },
  {
   "cell_type": "code",
   "execution_count": 22,
   "id": "eda9d831",
   "metadata": {},
   "outputs": [
    {
     "name": "stdout",
     "output_type": "stream",
     "text": [
      "40\n",
      "{'apple': 50}\n"
     ]
    }
   ],
   "source": [
    "val = Items.pop(\"milk\")\n",
    "print(val)\n",
    "print(Items)"
   ]
  },
  {
   "cell_type": "code",
   "execution_count": 23,
   "id": "52ad2eb1",
   "metadata": {},
   "outputs": [
    {
     "name": "stdout",
     "output_type": "stream",
     "text": [
      "{}\n"
     ]
    }
   ],
   "source": [
    "Items.clear()\n",
    "print(Items)"
   ]
  },
  {
   "cell_type": "markdown",
   "id": "e685db59",
   "metadata": {},
   "source": [
    "## Iterating Through a Dictionary\n"
   ]
  },
  {
   "cell_type": "code",
   "execution_count": 24,
   "id": "123623f7",
   "metadata": {},
   "outputs": [],
   "source": [
    "d = {1: 'Pencil', 2: 'Pen', 'Windows': 11}"
   ]
  },
  {
   "cell_type": "code",
   "execution_count": 19,
   "id": "67f07198",
   "metadata": {},
   "outputs": [
    {
     "name": "stdout",
     "output_type": "stream",
     "text": [
      "1\n",
      "2\n",
      "Windows\n"
     ]
    }
   ],
   "source": [
    "# Iterate over keys\n",
    "for key in d:\n",
    "    print(key)"
   ]
  },
  {
   "cell_type": "code",
   "execution_count": 20,
   "id": "4b023f02",
   "metadata": {},
   "outputs": [
    {
     "name": "stdout",
     "output_type": "stream",
     "text": [
      "Pencil\n",
      "Pen\n",
      "11\n"
     ]
    }
   ],
   "source": [
    "# Iterate over values\n",
    "for value in d.values():\n",
    "    print(value)"
   ]
  },
  {
   "cell_type": "code",
   "execution_count": 26,
   "id": "404d929e",
   "metadata": {},
   "outputs": [
    {
     "name": "stdout",
     "output_type": "stream",
     "text": [
      "1: Pencil\n",
      "2: Pen\n",
      "Windows: 11\n"
     ]
    }
   ],
   "source": [
    "# Iterate over key-value pairs\n",
    "for key, value in d.items():\n",
    "    print(f\"{key}: {value}\")"
   ]
  },
  {
   "cell_type": "markdown",
   "id": "4f641b68",
   "metadata": {},
   "source": [
    "### Workout Time\n",
    "Create a dictionary of three students and their favorite subjects:\n",
    "\n",
    "favorites = {\n",
    "    \n",
    "    \"Ravi\": \"Maths\",\n",
    "    \"Anita\": \"Science\",\n",
    "    \"Aman\": \"English\"    \n",
    "}\n",
    "\n",
    "Write a program to iterate through the dictionary and print each student’s name with their favorite subject."
   ]
  },
  {
   "cell_type": "code",
   "execution_count": 27,
   "id": "4f970607",
   "metadata": {},
   "outputs": [],
   "source": [
    "favorites = {\n",
    "    \"Ravi\" : \"Maths\",\n",
    "    \"Anita\" : \"Science\",\n",
    "    \"Aman\" : \"English\"\n",
    "}"
   ]
  },
  {
   "cell_type": "code",
   "execution_count": 28,
   "id": "9a1659a0",
   "metadata": {},
   "outputs": [
    {
     "name": "stdout",
     "output_type": "stream",
     "text": [
      "Ravi\n",
      "Anita\n",
      "Aman\n"
     ]
    }
   ],
   "source": [
    "for k in favorites:\n",
    "    print(k)"
   ]
  },
  {
   "cell_type": "code",
   "execution_count": 29,
   "id": "39417b43",
   "metadata": {},
   "outputs": [
    {
     "name": "stdout",
     "output_type": "stream",
     "text": [
      "Maths\n",
      "Science\n",
      "English\n"
     ]
    }
   ],
   "source": [
    "for v in favorites.values():\n",
    "    print(v)"
   ]
  },
  {
   "cell_type": "code",
   "execution_count": 30,
   "id": "5606e2fe",
   "metadata": {},
   "outputs": [
    {
     "name": "stdout",
     "output_type": "stream",
     "text": [
      "Ravi: Maths\n",
      "Anita: Science\n",
      "Aman: English\n"
     ]
    }
   ],
   "source": [
    "for k, v in favorites.items():\n",
    "    print(f\"{k}: {v}\")"
   ]
  },
  {
   "cell_type": "markdown",
   "id": "c78463b9",
   "metadata": {},
   "source": [
    "marks = {\n",
    "    \"Ravi\": 85,\n",
    "    \"Anita\": 92,\n",
    "    \"Aman\": 78,\n",
    "    \"Neha\": 95,\n",
    "    \"Sonia\": 88\n",
    "}\n",
    "\n",
    "Write a program to:\n",
    "\n",
    "1. Find the student who scored the highest marks.\n",
    "\n",
    "2. Print their name and marks in this format:\n",
    "\n",
    "Top scorer: Neha with 95 marks\n"
   ]
  },
  {
   "cell_type": "markdown",
   "id": "0ce57d2b",
   "metadata": {},
   "source": [
    "## Nested Dictionaries"
   ]
  },
  {
   "cell_type": "markdown",
   "id": "3df1eca5",
   "metadata": {},
   "source": [
    "Dictionary within a Dictionary."
   ]
  },
  {
   "cell_type": "code",
   "execution_count": 16,
   "id": "6249f72c",
   "metadata": {},
   "outputs": [
    {
     "name": "stdout",
     "output_type": "stream",
     "text": [
      "{1: 'Maths', 2: 'Physics', 3: {'A': 'Earth', 'B': 'Is', 'C': 'Beautiful'}}\n"
     ]
    }
   ],
   "source": [
    "d = {\n",
    "    1: 'Maths',\n",
    "    2: 'Physics',\n",
    "    3: {'A': 'Earth', 'B': 'Is', 'C': 'Beautiful'}\n",
    "    }\n",
    "\n",
    "print(d)"
   ]
  },
  {
   "cell_type": "code",
   "execution_count": 23,
   "id": "8fceef6a",
   "metadata": {},
   "outputs": [
    {
     "name": "stdout",
     "output_type": "stream",
     "text": [
      "Earth\n"
     ]
    }
   ],
   "source": [
    "print(d[3]['A'])"
   ]
  },
  {
   "cell_type": "markdown",
   "id": "4f791364",
   "metadata": {},
   "source": [
    "## Dictionary Comprehension\n",
    "It’s a quick way to create dictionaries using a single line of code instead of writing a long loop.\n",
    "\n",
    "*key: value for item in iterable*"
   ]
  },
  {
   "cell_type": "code",
   "execution_count": 11,
   "id": "caba2169",
   "metadata": {},
   "outputs": [
    {
     "name": "stdout",
     "output_type": "stream",
     "text": [
      "{'a': 1, 'b': 2, 'c': 3, 'd': 4, 'e': 5}\n"
     ]
    }
   ],
   "source": [
    "keys = ['a', 'b', 'c', 'd', 'e']\n",
    "values = [1, 2, 3, 4, 5]\n",
    "\n",
    "dict = {}\n",
    "for k, v in zip(keys, values):\n",
    "    dict[k] = v\n",
    "\n",
    "print(dict)"
   ]
  },
  {
   "cell_type": "code",
   "execution_count": 10,
   "id": "a23ca805",
   "metadata": {},
   "outputs": [
    {
     "name": "stdout",
     "output_type": "stream",
     "text": [
      "{'a': 1, 'b': 2, 'c': 3, 'd': 4, 'e': 5}\n"
     ]
    }
   ],
   "source": [
    "dict = { k:v for k, v in zip(keys, values)}\n",
    "print(dict)"
   ]
  },
  {
   "cell_type": "markdown",
   "id": "de04a092",
   "metadata": {},
   "source": [
    "### Zip()\n",
    "It pairs up elements from the input iterables based on their index, forming tuples. The first elements of all input iterables form the first tuple, the second elements form the second tuple, and so on"
   ]
  },
  {
   "cell_type": "code",
   "execution_count": null,
   "id": "4486cadd",
   "metadata": {},
   "outputs": [
    {
     "name": "stdout",
     "output_type": "stream",
     "text": [
      "{1: 1, 2: 4, 3: 9, 4: 16}\n"
     ]
    }
   ],
   "source": [
    "square = {}\n",
    "for i in range(1, 5):\n",
    "    dict[i] = i**2\n",
    "\n",
    "print(square)"
   ]
  },
  {
   "cell_type": "code",
   "execution_count": 13,
   "id": "7b8e2462",
   "metadata": {},
   "outputs": [
    {
     "name": "stdout",
     "output_type": "stream",
     "text": [
      "{1: 1, 2: 4, 3: 9, 4: 16}\n"
     ]
    }
   ],
   "source": [
    "square= {i: i**2 for i in range(1,5)}\n",
    "print(square)"
   ]
  },
  {
   "cell_type": "markdown",
   "id": "609cad14",
   "metadata": {},
   "source": [
    "### Task\n",
    "Write a Python program using dictionary comprehension that takes each character from the string _\"coding\"_ and:\n",
    "\n",
    "* stores the uppercase version of the character as the key,\n",
    "\n",
    "* stores the character repeated three times as the value.\n",
    "\n",
    "Output: {'O': 'ooo', 'N': 'nnn', 'I': 'iii', 'C': 'ccc', 'D': 'ddd', 'G': 'ggg'}\n",
    "\n",
    "Hint- use l.upper() for key"
   ]
  },
  {
   "cell_type": "code",
   "execution_count": 4,
   "id": "705f9b79",
   "metadata": {},
   "outputs": [
    {
     "name": "stdout",
     "output_type": "stream",
     "text": [
      "{'C': 'ccc', 'O': 'ooo', 'D': 'ddd', 'I': 'iii', 'N': 'nnn', 'G': 'ggg'}\n"
     ]
    }
   ],
   "source": [
    "d={}\n",
    "for i in \"coding\":\n",
    "    d[i.upper()]= i*3\n",
    "\n",
    "print(d)"
   ]
  },
  {
   "cell_type": "code",
   "execution_count": 5,
   "id": "6709f162",
   "metadata": {},
   "outputs": [
    {
     "name": "stdout",
     "output_type": "stream",
     "text": [
      "{'C': 'ccc', 'O': 'ooo', 'D': 'ddd', 'I': 'iii', 'N': 'nnn', 'G': 'ggg'}\n"
     ]
    }
   ],
   "source": [
    "d1 = {i.upper(): i*3 for i in \"coding\"}\n",
    "\n",
    "print(d1)"
   ]
  },
  {
   "cell_type": "markdown",
   "id": "5d28a513",
   "metadata": {},
   "source": [
    "## Dictionary Methods\n",
    "1. clear(): Removes all items from the dictionary.\n",
    "2. copy(): Returns a shallow copy of the dictionary.\n",
    "3. fromkeys(): Creates a dictionary from the given sequence.\n",
    "4. get(): Returns the value for the given key.\n",
    "5. items(): Return the list with all dictionary keys with values.\n",
    "6. keys(): Returns a view object that displays a list of all the keys in the dictionary in order of insertion.\n",
    "7. pop(): Returns and removes the element with the given key.\n",
    "8. popitem(): Returns and removes the item that was last inserted into the dictionary.\n",
    "9. setdefault(): Returns the value of a key if the key is in the dictionary else inserts the key with a value to the dictionary.\n",
    "10. values(): Returns a view object containing all dictionary values, which can be accessed and iterated through efficiently.\n",
    "11. update(): Updates the dictionary with the elements from another dictionary or an iterable of key-value pairs. With this method, you can include new data or merge it with existing dictionary entries."
   ]
  },
  {
   "cell_type": "markdown",
   "id": "ed67f3b8",
   "metadata": {},
   "source": [
    "### Items()"
   ]
  },
  {
   "cell_type": "code",
   "execution_count": 8,
   "id": "decfd205",
   "metadata": {},
   "outputs": [
    {
     "name": "stdout",
     "output_type": "stream",
     "text": [
      "Age\n",
      "Ram\n",
      "India\n"
     ]
    }
   ],
   "source": [
    "d = {'Name': 'Ram', 'Age': '19', 'Country': 'India'}\n",
    "print(list(d.items())[1][0])\n",
    "print(list(d.items())[0][1])\n",
    "print(list(d.items())[2][1])"
   ]
  },
  {
   "cell_type": "markdown",
   "id": "f88eb406",
   "metadata": {},
   "source": [
    "### update()\n"
   ]
  },
  {
   "cell_type": "code",
   "execution_count": 25,
   "id": "0432a24e",
   "metadata": {},
   "outputs": [
    {
     "name": "stdout",
     "output_type": "stream",
     "text": [
      "{'Name': 'Neha', 'Age': '22', 'Country': 'India'}\n"
     ]
    }
   ],
   "source": [
    "d1 = {'Name': 'Ram', 'Age': '19', 'Country': 'India'}\n",
    "d2 = {'Name': 'Neha', 'Age': '22'}\n",
    "\n",
    "d1.update(d2)\n",
    "print(d1)"
   ]
  },
  {
   "cell_type": "markdown",
   "id": "e43a3120",
   "metadata": {},
   "source": [
    "### fromkeys()"
   ]
  },
  {
   "cell_type": "code",
   "execution_count": 26,
   "id": "eb7bee41",
   "metadata": {},
   "outputs": [
    {
     "name": "stdout",
     "output_type": "stream",
     "text": [
      "{0: True, 1: True, 2: True, 3: True, 4: True}\n"
     ]
    }
   ],
   "source": [
    "dic=dict.fromkeys(range(5), True)\n",
    "\n",
    "print(dic)"
   ]
  },
  {
   "cell_type": "markdown",
   "id": "cd0647da",
   "metadata": {},
   "source": [
    "### Setdefault()"
   ]
  },
  {
   "cell_type": "code",
   "execution_count": 11,
   "id": "9e71de2c",
   "metadata": {},
   "outputs": [
    {
     "name": "stdout",
     "output_type": "stream",
     "text": [
      "Anita\n",
      "A\n",
      "{'name': 'Anita', 'age': 20, 'grade': 'A'}\n"
     ]
    }
   ],
   "source": [
    "student = {\"name\": \"Anita\", \"age\": 20}\n",
    "\n",
    "# If the key exists, setdefault() returns its value\n",
    "print(student.setdefault(\"name\", \"Unknown\"))\n",
    "\n",
    "# If the key does not exist, it adds the key with the given default value\n",
    "print(student.setdefault(\"grade\", \"A\"))\n",
    "\n",
    "# Now the dictionary has the new key-value pair\n",
    "print(student)\n"
   ]
  }
 ],
 "metadata": {
  "kernelspec": {
   "display_name": "linux_env",
   "language": "python",
   "name": "python3"
  },
  "language_info": {
   "codemirror_mode": {
    "name": "ipython",
    "version": 3
   },
   "file_extension": ".py",
   "mimetype": "text/x-python",
   "name": "python",
   "nbconvert_exporter": "python",
   "pygments_lexer": "ipython3",
   "version": "3.12.3"
  }
 },
 "nbformat": 4,
 "nbformat_minor": 5
}
