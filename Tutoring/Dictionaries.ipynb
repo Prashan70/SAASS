{
 "cells": [
  {
   "cell_type": "markdown",
   "id": "e18453e5",
   "metadata": {},
   "source": [
    "# Dictionaries\n",
    "- A dictionary stores data in key–value pairs.\n",
    "- Think of it like a real dictionary: a word (**key**) and its meaning (**value**).\n",
    "\n",
    "Example-\n",
    "\n",
    "- {'apple' : 'Fruit'}\n",
    "\n",
    "apple = key,\n",
    "\n",
    "Fruit = value"
   ]
  },
  {
   "cell_type": "code",
   "execution_count": 1,
   "id": "05575377",
   "metadata": {},
   "outputs": [
    {
     "name": "stdout",
     "output_type": "stream",
     "text": [
      "{1: 'Apple', 2: 'Mango', 3: 'Grapes'}\n"
     ]
    }
   ],
   "source": [
    "d = {1: 'Apple', 2: 'Mango', 3: 'Grapes'}\n",
    "print(d)"
   ]
  },
  {
   "cell_type": "markdown",
   "id": "3a0f04f9",
   "metadata": {},
   "source": [
    "## How to Create a Dictionary\n",
    "Arrange sequence of elements within curly {} braces, separated by a 'comma'."
   ]
  },
  {
   "cell_type": "code",
   "execution_count": 2,
   "id": "8be4060d",
   "metadata": {},
   "outputs": [
    {
     "name": "stdout",
     "output_type": "stream",
     "text": [
      "{1: 'Apple', 2: 'Mango', 3: 'Grapes'}\n",
      "{'a': 'Orange', 'b': 'Banana', 'c': 'Coconut'}\n"
     ]
    }
   ],
   "source": [
    "d1 = {1: 'Apple', 2: 'Mango', 3: 'Grapes'}\n",
    "print(d1)\n",
    "\n",
    "# create dictionary using dict() constructor\n",
    "d2 = dict(a = \"Orange\", b = \"Banana\", c = \"Coconut\")\n",
    "print(d2)"
   ]
  },
  {
   "cell_type": "markdown",
   "id": "a17d4eaa",
   "metadata": {},
   "source": [
    "## Things to remeber:"
   ]
  },
  {
   "cell_type": "markdown",
   "id": "664fad40",
   "metadata": {},
   "source": [
    "1. Keys must be unique."
   ]
  },
  {
   "cell_type": "code",
   "execution_count": 5,
   "id": "fc3779ef",
   "metadata": {},
   "outputs": [
    {
     "name": "stdout",
     "output_type": "stream",
     "text": [
      "{'name': 'Ravi', 'age': 16}\n"
     ]
    }
   ],
   "source": [
    "student = {\n",
    "    \"name\": \"Ravi\",\n",
    "    \"age\": 15,\n",
    "    \"age\": 16    # Duplicate key\n",
    "}\n",
    "print(student)\n"
   ]
  },
  {
   "cell_type": "markdown",
   "id": "3100d7ce",
   "metadata": {},
   "source": [
    "2. Keys can be strings, numbers or tuples but not lists."
   ]
  },
  {
   "cell_type": "code",
   "execution_count": 6,
   "id": "ae67f160",
   "metadata": {},
   "outputs": [
    {
     "name": "stdout",
     "output_type": "stream",
     "text": [
      "{'name': 'Ravi', 101: 'Roll Number', (1, 2): 'tuple key'}\n"
     ]
    }
   ],
   "source": [
    "example = {\n",
    "    \"name\": \"Ravi\",      # string key\n",
    "    101: \"Roll Number\",  # number key\n",
    "    (1, 2): \"tuple key\"  # tuple key\n",
    "}\n",
    "print(example)\n"
   ]
  },
  {
   "cell_type": "code",
   "execution_count": 7,
   "id": "0a45d937",
   "metadata": {},
   "outputs": [
    {
     "ename": "TypeError",
     "evalue": "unhashable type: 'list'",
     "output_type": "error",
     "traceback": [
      "\u001b[31m---------------------------------------------------------------------------\u001b[39m",
      "\u001b[31mTypeError\u001b[39m                                 Traceback (most recent call last)",
      "\u001b[36mCell\u001b[39m\u001b[36m \u001b[39m\u001b[32mIn[7]\u001b[39m\u001b[32m, line 1\u001b[39m\n\u001b[32m----> \u001b[39m\u001b[32m1\u001b[39m bad_example = {[\u001b[32m1\u001b[39m, \u001b[32m2\u001b[39m, \u001b[32m3\u001b[39m]: \u001b[33m\"\u001b[39m\u001b[33mlist key\u001b[39m\u001b[33m\"\u001b[39m}   \u001b[38;5;66;03m# Error\u001b[39;00m\n",
      "\u001b[31mTypeError\u001b[39m: unhashable type: 'list'"
     ]
    }
   ],
   "source": [
    "bad_example = {[1, 2, 3]: \"list key\"}   # Error\n"
   ]
  },
  {
   "cell_type": "markdown",
   "id": "defc8804",
   "metadata": {},
   "source": [
    "3. Dictionary keys are case sensitive."
   ]
  },
  {
   "cell_type": "code",
   "execution_count": 8,
   "id": "9ece3ae0",
   "metadata": {},
   "outputs": [
    {
     "name": "stdout",
     "output_type": "stream",
     "text": [
      "{'Name': 'Ravi', 'name': 'Aman'}\n"
     ]
    }
   ],
   "source": [
    "student = {\n",
    "    \"Name\": \"Ravi\",\n",
    "    \"name\": \"Aman\"\n",
    "}\n",
    "print(student)\n"
   ]
  },
  {
   "cell_type": "markdown",
   "id": "8169d0ac",
   "metadata": {},
   "source": [
    "### Workout Questions\n",
    "1. Create a dictionary to store the following student information:\n",
    "\n",
    "- Name: \"Anita\"\n",
    "\n",
    "- Age: 14\n",
    "\n",
    "- Class: 9\n",
    "\n",
    "- Marks: 88\n",
    "\n",
    "2. Make a dictionary with 3 countries and their capitals. Example keys: \"India\", \"France\", \"Japan\"."
   ]
  },
  {
   "cell_type": "markdown",
   "id": "5ae1874e",
   "metadata": {},
   "source": [
    "## Accessing Dictionary Items"
   ]
  },
  {
   "cell_type": "code",
   "execution_count": 9,
   "id": "e725688d",
   "metadata": {},
   "outputs": [
    {
     "name": "stdout",
     "output_type": "stream",
     "text": [
      "Amit\n",
      "Amit\n"
     ]
    }
   ],
   "source": [
    "d = { \"name\": \"Amit\", 1: \"Python\", (1, 2): [3,6,9] }\n",
    "\n",
    "# Access using key\n",
    "print(d[\"name\"])\n",
    "\n",
    "# Access using get()\n",
    "print(d.get(\"name\"))"
   ]
  },
  {
   "cell_type": "markdown",
   "id": "6e6321a3",
   "metadata": {},
   "source": [
    "## Adding and Updating Dictionary Items"
   ]
  },
  {
   "cell_type": "code",
   "execution_count": 10,
   "id": "e4e0da15",
   "metadata": {},
   "outputs": [
    {
     "name": "stdout",
     "output_type": "stream",
     "text": [
      "{1: 'India Gate', 2: 'Red Fort', 3: 'Qutub Minanar', 'age': 22}\n"
     ]
    }
   ],
   "source": [
    "d = {1: 'Taj Mahal', 2: 'Red Fort', 3: 'Qutub Minanar'}\n",
    "\n",
    "# Adding a new key-value pair\n",
    "d[\"age\"] = 22\n",
    "\n",
    "# Updating an existing value\n",
    "d[1] = \"India Gate\"\n",
    "\n",
    "print(d)"
   ]
  },
  {
   "cell_type": "markdown",
   "id": "153a73d4",
   "metadata": {},
   "source": [
    "## Removing Dictionary Items"
   ]
  },
  {
   "cell_type": "code",
   "execution_count": 13,
   "id": "1c924a92",
   "metadata": {},
   "outputs": [],
   "source": [
    "d = {1: 'Sunflower', 2: 'Rose', 3: 'Jasmine', 4: 'Lily'}"
   ]
  },
  {
   "cell_type": "markdown",
   "id": "4ae2f04d",
   "metadata": {},
   "source": [
    "**del()**: Remove the key."
   ]
  },
  {
   "cell_type": "code",
   "execution_count": 14,
   "id": "7d8deffc",
   "metadata": {},
   "outputs": [
    {
     "name": "stdout",
     "output_type": "stream",
     "text": [
      "{1: 'Sunflower', 2: 'Rose', 4: 'Lily'}\n"
     ]
    }
   ],
   "source": [
    "# Using del to remove an item\n",
    "del d[3]\n",
    "print(d)"
   ]
  },
  {
   "cell_type": "markdown",
   "id": "d90b3e61",
   "metadata": {},
   "source": [
    "**pop()**: Removes an item by key and returns its value."
   ]
  },
  {
   "cell_type": "code",
   "execution_count": 15,
   "id": "2b9badb5",
   "metadata": {},
   "outputs": [
    {
     "name": "stdout",
     "output_type": "stream",
     "text": [
      "Sunflower\n"
     ]
    }
   ],
   "source": [
    "# Using pop() to remove an item and return the value\n",
    "val = d.pop(1)\n",
    "print(val)"
   ]
  },
  {
   "cell_type": "markdown",
   "id": "2a43669e",
   "metadata": {},
   "source": [
    "**popitem()**: Removes and returns the last key-value pair."
   ]
  },
  {
   "cell_type": "code",
   "execution_count": 16,
   "id": "728dac5c",
   "metadata": {},
   "outputs": [
    {
     "name": "stdout",
     "output_type": "stream",
     "text": [
      "Key: 4, Value: Lily\n"
     ]
    }
   ],
   "source": [
    "# Using popitem to removes and returns\n",
    "# the last key-value pair.\n",
    "key, val = d.popitem()\n",
    "print(f\"Key: {key}, Value: {val}\")"
   ]
  },
  {
   "cell_type": "markdown",
   "id": "9fe69753",
   "metadata": {},
   "source": [
    "**clear()**: Empties Dictionary."
   ]
  },
  {
   "cell_type": "code",
   "execution_count": 17,
   "id": "f16f684c",
   "metadata": {},
   "outputs": [
    {
     "name": "stdout",
     "output_type": "stream",
     "text": [
      "{}\n"
     ]
    }
   ],
   "source": [
    "# Clear all items from the dictionary\n",
    "d.clear()\n",
    "print(d)"
   ]
  },
  {
   "cell_type": "markdown",
   "id": "73bc23c4",
   "metadata": {},
   "source": [
    "### Workout time\n",
    "**<u>Library Books</u>**\n",
    "\n",
    "Create a dictionary called *library* with these key–value pairs:\n",
    "\n",
    "{\n",
    "\n",
    "    \"Book1\": \"Maths\",\n",
    "\n",
    "    \"Book2\": \"Science\",\n",
    "\n",
    "    \"Book3\": \"History\"\n",
    "\n",
    "}\n",
    "\n",
    "\n",
    "*Task:*\n",
    "\n",
    "1. Access and print the subject of \"Book2\".\n",
    "\n",
    "2. Add a new key \"Book4\" with value \"English\".\n",
    "\n",
    "3. Update \"Book3\" to \"Geography\"."
   ]
  },
  {
   "cell_type": "markdown",
   "id": "e5a3ec5d",
   "metadata": {},
   "source": [
    "**<u>Grocery Items</u>**\n",
    "\n",
    "{\n",
    "    \n",
    "    \"apple\": 50,\n",
    "\n",
    "    \"banana\": 20,\n",
    "    \n",
    "    \"milk\": 40\n",
    "\n",
    "}\n",
    "\n",
    "*Tasks:*\n",
    "\n",
    "- Remove \"banana\" using del.\n",
    "\n",
    "- Remove \"milk\" using .pop().\n",
    "\n",
    "- Clear the dictionary using .clear().\n",
    "\n",
    "- Print the final dictionary."
   ]
  },
  {
   "cell_type": "markdown",
   "id": "e685db59",
   "metadata": {},
   "source": [
    "## Iterating Through a Dictionary\n"
   ]
  },
  {
   "cell_type": "code",
   "execution_count": 18,
   "id": "123623f7",
   "metadata": {},
   "outputs": [],
   "source": [
    "d = {1: 'Pencil', 2: 'Pen', 'Windows': 11}"
   ]
  },
  {
   "cell_type": "code",
   "execution_count": 19,
   "id": "67f07198",
   "metadata": {},
   "outputs": [
    {
     "name": "stdout",
     "output_type": "stream",
     "text": [
      "1\n",
      "2\n",
      "Windows\n"
     ]
    }
   ],
   "source": [
    "# Iterate over keys\n",
    "for key in d:\n",
    "    print(key)"
   ]
  },
  {
   "cell_type": "code",
   "execution_count": 20,
   "id": "4b023f02",
   "metadata": {},
   "outputs": [
    {
     "name": "stdout",
     "output_type": "stream",
     "text": [
      "Pencil\n",
      "Pen\n",
      "11\n"
     ]
    }
   ],
   "source": [
    "# Iterate over values\n",
    "for value in d.values():\n",
    "    print(value)"
   ]
  },
  {
   "cell_type": "code",
   "execution_count": 21,
   "id": "404d929e",
   "metadata": {},
   "outputs": [
    {
     "name": "stdout",
     "output_type": "stream",
     "text": [
      "1: Pencil\n",
      "2: Pen\n",
      "Windows: 11\n"
     ]
    }
   ],
   "source": [
    "# Iterate over key-value pairs\n",
    "for key, value in d.items():\n",
    "    print(f\"{key}: {value}\")"
   ]
  },
  {
   "cell_type": "markdown",
   "id": "4f641b68",
   "metadata": {},
   "source": [
    "### Workout Time\n",
    "Create a dictionary of three students and their favorite subjects:\n",
    "\n",
    "favorites = {\n",
    "    \n",
    "    \"Ravi\": \"Maths\",\n",
    "    \"Anita\": \"Science\",\n",
    "    \"Aman\": \"English\"    \n",
    "}\n",
    "\n",
    "Write a program to iterate through the dictionary and print each student’s name with their favorite subject."
   ]
  }
 ],
 "metadata": {
  "kernelspec": {
   "display_name": "linux_env",
   "language": "python",
   "name": "python3"
  },
  "language_info": {
   "codemirror_mode": {
    "name": "ipython",
    "version": 3
   },
   "file_extension": ".py",
   "mimetype": "text/x-python",
   "name": "python",
   "nbconvert_exporter": "python",
   "pygments_lexer": "ipython3",
   "version": "3.12.3"
  }
 },
 "nbformat": 4,
 "nbformat_minor": 5
}
