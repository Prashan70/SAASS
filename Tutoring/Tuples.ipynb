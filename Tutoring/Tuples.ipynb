{
 "cells": [
  {
   "cell_type": "markdown",
   "id": "2dbe7e06",
   "metadata": {},
   "source": [
    "# Tuple\n",
    "* Tuples are similar to lists, but unlike lists, they cannot be changed after their creation (i.e., they are immutable).\n",
    "* The main characteristics of tuples are being ordered , heterogeneous and immutable."
   ]
  },
  {
   "cell_type": "markdown",
   "id": "2e861107",
   "metadata": {},
   "source": [
    "## Creating Tuple"
   ]
  },
  {
   "cell_type": "code",
   "execution_count": 1,
   "id": "dfbc8282",
   "metadata": {},
   "outputs": [
    {
     "name": "stdout",
     "output_type": "stream",
     "text": [
      "()\n"
     ]
    }
   ],
   "source": [
    "tup = ()\n",
    "print(tup)"
   ]
  },
  {
   "cell_type": "code",
   "execution_count": 2,
   "id": "3a964649",
   "metadata": {},
   "outputs": [
    {
     "name": "stdout",
     "output_type": "stream",
     "text": [
      "('Mahatma', 'Gandhi')\n"
     ]
    }
   ],
   "source": [
    "# String\n",
    "tup = ('Mahatma', 'Gandhi')\n",
    "print(tup)"
   ]
  },
  {
   "cell_type": "code",
   "execution_count": 5,
   "id": "0935d9a8",
   "metadata": {},
   "outputs": [
    {
     "name": "stdout",
     "output_type": "stream",
     "text": [
      "(1, 2, 3, 4, 5)\n"
     ]
    }
   ],
   "source": [
    "# List\n",
    "li = [1, 2, 3, 4, 5]\n",
    "print(tuple(li))"
   ]
  },
  {
   "cell_type": "code",
   "execution_count": 6,
   "id": "8d309890",
   "metadata": {},
   "outputs": [
    {
     "name": "stdout",
     "output_type": "stream",
     "text": [
      "('S', 'u', 'n')\n"
     ]
    }
   ],
   "source": [
    "# Built in function\n",
    "tup = tuple(\"Sun\")\n",
    "print(tup)"
   ]
  },
  {
   "cell_type": "code",
   "execution_count": 8,
   "id": "5c6c636b",
   "metadata": {},
   "outputs": [
    {
     "name": "stdout",
     "output_type": "stream",
     "text": [
      "(5, 'Hello', 7, 'World')\n",
      "((0, 1, 2, 3), ('python', 'language'))\n",
      "('Pen', 'Pen', 'Pen')\n"
     ]
    }
   ],
   "source": [
    "tup = (5, 'Hello', 7, 'World')\n",
    "print(tup)\n",
    "\n",
    "# Creating a Tuple with nested tuples\n",
    "tup1 = (0, 1, 2, 3)\n",
    "tup2 = ('python', 'language')\n",
    "tup3 = (tup1, tup2)\n",
    "print(tup3)\n",
    "\n",
    "# Creating a Tuple with repetition\n",
    "tup1 = ('Pen',) * 3\n",
    "print(tup1)"
   ]
  },
  {
   "cell_type": "markdown",
   "id": "0a138190",
   "metadata": {},
   "source": [
    "## Accessing of Tuples"
   ]
  },
  {
   "cell_type": "code",
   "execution_count": 29,
   "id": "e1bb457b",
   "metadata": {},
   "outputs": [
    {
     "name": "stdout",
     "output_type": "stream",
     "text": [
      "S\n",
      "('t', 'u', 'd')\n",
      "('S', 't', 'u')\n",
      "('u', 't', 'S')\n",
      "Raj\n",
      "Arun\n",
      "Gourav\n"
     ]
    }
   ],
   "source": [
    "# Accessing Tuple with Indexing\n",
    "tup = tuple(\"Students\")\n",
    "print(tup[0])\n",
    "\n",
    "# Accessing a range of elements using slicing\n",
    "print(tup[1:4])  \n",
    "print(tup[:3])\n",
    "print(tup[2::-1])\n",
    "\n",
    "# Tuple unpacking\n",
    "tup = (\"Raj\", \"Arun\", \"Gourav\")\n",
    "\n",
    "# This line unpack values of Tuple\n",
    "a, b, c = tup\n",
    "print(a)\n",
    "print(b)\n",
    "print(c)"
   ]
  },
  {
   "cell_type": "markdown",
   "id": "47c648f6",
   "metadata": {},
   "source": [
    "Task:\n",
    "\n",
    "Print the first and last fruit.\n",
    "\n",
    "Print the second and fourth elements."
   ]
  },
  {
   "cell_type": "markdown",
   "id": "22f29c40",
   "metadata": {},
   "source": [
    "## Concatenation of Tuples\n"
   ]
  },
  {
   "cell_type": "code",
   "execution_count": 19,
   "id": "ef699d73",
   "metadata": {},
   "outputs": [
    {
     "name": "stdout",
     "output_type": "stream",
     "text": [
      "(0, 1, 2, 3, 'mango', 'apple', 'Grapes')\n"
     ]
    }
   ],
   "source": [
    "tup1 = (0, 1, 2, 3)\n",
    "tup2 = ('mango', 'apple', 'Grapes')\n",
    "\n",
    "tup3 = tup1 + tup2\n",
    "print(tup3)"
   ]
  },
  {
   "cell_type": "markdown",
   "id": "730f7a41",
   "metadata": {},
   "source": [
    "## Slicing of Tuple"
   ]
  },
  {
   "cell_type": "code",
   "execution_count": 21,
   "id": "699e80d1",
   "metadata": {},
   "outputs": [
    {
     "name": "stdout",
     "output_type": "stream",
     "text": [
      "('h', 'o', 'n', ' ', 'D', 'o', 'e')\n",
      "('e', 'o', 'D', ' ', 'n', 'o', 'h', 'J')\n",
      "('o', 'n', ' ')\n"
     ]
    }
   ],
   "source": [
    "tup = tuple('Jhon Doe')\n",
    "\n",
    "# Removing First element\n",
    "print(tup[1:])\n",
    "\n",
    "# Reversing the Tuple\n",
    "print(tup[::-1])\n",
    "\n",
    "# Printing elements of a Range\n",
    "print(tup[2:5])"
   ]
  },
  {
   "cell_type": "markdown",
   "id": "b2315e09",
   "metadata": {},
   "source": [
    "## Deleting a Tuple\n"
   ]
  },
  {
   "cell_type": "code",
   "execution_count": 30,
   "id": "a5533ef3",
   "metadata": {},
   "outputs": [
    {
     "ename": "NameError",
     "evalue": "name 'tup' is not defined",
     "output_type": "error",
     "traceback": [
      "\u001b[31m---------------------------------------------------------------------------\u001b[39m",
      "\u001b[31mNameError\u001b[39m                                 Traceback (most recent call last)",
      "\u001b[36mCell\u001b[39m\u001b[36m \u001b[39m\u001b[32mIn[30]\u001b[39m\u001b[32m, line 4\u001b[39m\n\u001b[32m      1\u001b[39m tup = (\u001b[32m0\u001b[39m, \u001b[32m1\u001b[39m, \u001b[32m2\u001b[39m, \u001b[32m3\u001b[39m, \u001b[32m4\u001b[39m)\n\u001b[32m      2\u001b[39m \u001b[38;5;28;01mdel\u001b[39;00m tup\n\u001b[32m----> \u001b[39m\u001b[32m4\u001b[39m \u001b[38;5;28mprint\u001b[39m(\u001b[43mtup\u001b[49m)\n",
      "\u001b[31mNameError\u001b[39m: name 'tup' is not defined"
     ]
    }
   ],
   "source": [
    "tup = (0, 1, 2, 3, 4)\n",
    "del tup\n",
    "\n",
    "print(tup)"
   ]
  },
  {
   "cell_type": "markdown",
   "id": "829e34c2",
   "metadata": {},
   "source": [
    "## Tuple Unpacking with Asterisk (*)\n",
    "The \" * \" operator can be used in tuple unpacking to grab multiple items into a list"
   ]
  },
  {
   "cell_type": "code",
   "execution_count": 31,
   "id": "a8f741e8",
   "metadata": {},
   "outputs": [
    {
     "name": "stdout",
     "output_type": "stream",
     "text": [
      "1\n",
      "[2, 3, 4]\n",
      "5\n"
     ]
    }
   ],
   "source": [
    "tup = (1, 2, 3, 4, 5)\n",
    "\n",
    "a, *b, c = tup\n",
    "\n",
    "print(a) \n",
    "print(b) \n",
    "print(c)"
   ]
  }
 ],
 "metadata": {
  "kernelspec": {
   "display_name": "linux_env",
   "language": "python",
   "name": "python3"
  },
  "language_info": {
   "codemirror_mode": {
    "name": "ipython",
    "version": 3
   },
   "file_extension": ".py",
   "mimetype": "text/x-python",
   "name": "python",
   "nbconvert_exporter": "python",
   "pygments_lexer": "ipython3",
   "version": "3.12.3"
  }
 },
 "nbformat": 4,
 "nbformat_minor": 5
}
