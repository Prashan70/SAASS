{
 "cells": [
  {
   "cell_type": "markdown",
   "id": "32d7fcc9",
   "metadata": {
    "vscode": {
     "languageId": "html"
    }
   },
   "source": [
    "### <u>Recap</u>:\n",
    "\n",
    "1. Libraries *or Packages* are like bags. These bags contain different notebooks i.e. *Modules*, which are nothing else but files inside which code is written.\n",
    "2. So there are two things:\n",
    "    - Module: Math, Random\n",
    "    - Package: Numpy, Matplotlib\n",
    "3. Math Module\n",
    "4. Random Module\n",
    "\n",
    "### <u>Steps</u>:\n",
    "\n",
    "- Import math, random\n",
    "- Use elements like **math.sqrt()**, **random.randint()**\n",
    "\n",
    "### <u>Warm up</u>:\n",
    "\n",
    "- Using **math** module find [(17*18) + 12]\n",
    "- Write a program to determine hypotenuse in Pythagoras theorem using **math** module.\n",
    "$$ h = \\sqrt{p^2 + b^2} $$\n",
    "- Use the *random.choice()* function to pick a fruit randomly from list."
   ]
  },
  {
   "cell_type": "code",
   "execution_count": null,
   "id": "0e56cfea",
   "metadata": {},
   "outputs": [],
   "source": []
  },
  {
   "cell_type": "code",
   "execution_count": null,
   "id": "f8e7205d",
   "metadata": {},
   "outputs": [],
   "source": []
  },
  {
   "cell_type": "code",
   "execution_count": null,
   "id": "262377cb",
   "metadata": {},
   "outputs": [],
   "source": []
  },
  {
   "cell_type": "markdown",
   "id": "8ced1a26",
   "metadata": {},
   "source": [
    "# Making Our Own Package\n",
    "---\n",
    "### Steps:\n",
    "1. Create a folder named **mypackage**.\n",
    "2. Add an empty module named __init__.py.\n",
    "3. Create modules (files) inside that folder named **calclator.py**.\n",
    "4. Write some basic codes in *calclator.py* to use the module.\n",
    "5. Adding another file named **greetings.py** and insert some codes in it.\n",
    "6. Import the package and use it in your workspace.\n",
    "\n",
    "## Task:\n",
    "Create a package called **utility**. Inside it make two modules:\n",
    "1. converter.py\n",
    "2. messages.py\n",
    "\n",
    "Inside *converter.py*\n",
    "- convert celsius to farenheit\n",
    "$$f = \\left( c \\times \\frac{9}{5} \\right) + 32$$\n",
    "\n",
    "- convert farenheit to celsius\n",
    "$$c = \\left( f - 32 \\right) \\times \\frac{5}{9}$$\n",
    "\n",
    "Inside *messages.py*\n",
    "- Hello! **{name}**\n",
    "- Good Bye **{name}**. Thanks for using\n",
    "\n"
   ]
  }
 ],
 "metadata": {
  "kernelspec": {
   "display_name": "linux_env",
   "language": "python",
   "name": "python3"
  },
  "language_info": {
   "codemirror_mode": {
    "name": "ipython",
    "version": 3
   },
   "file_extension": ".py",
   "mimetype": "text/x-python",
   "name": "python",
   "nbconvert_exporter": "python",
   "pygments_lexer": "ipython3",
   "version": "3.12.3"
  }
 },
 "nbformat": 4,
 "nbformat_minor": 5
}
